{
 "cells": [
  {
   "cell_type": "markdown",
   "metadata": {},
   "source": [
    "# Penarikan Kesimpulan dan Pengujian Hipotesis Data Matriks Kualitas Air\n",
    "\n",
    "**Tugas Besar IF2220 Probabilitas dan Statistika**\n",
    "\n",
    "Disusun oleh:\n",
    "1. 13520047 Hana Fathiyah\n",
    "2. 13520128 Bayu Samudra"
   ]
  },
  {
   "cell_type": "markdown",
   "metadata": {},
   "source": [
    "---"
   ]
  },
  {
   "cell_type": "markdown",
   "metadata": {},
   "source": [
    "## Requirement Modul Analisis\n",
    "Pada tugas besar ini, kami menggunakan modul-modul sebagai berikut.\n",
    "1. Numpy versi 1.22.3\n",
    "2. Pandas versi 1.4.1\n",
    "3. Seaborn versi 0.11.2\n",
    "4. Matplotlib versi 3.5.1\n",
    "5. Jupyterlab versi 3.3.2\n",
    "\n",
    "Modul-modul tersebut dapat di-_install_ dengan perintah sebagai berikut.\n",
    "```shell \n",
    "pip install -r requirements.txt\n",
    "```\n",
    "Berikut ini kami mencoba untuk melakukan _import library_ (pustaka) tersebut."
   ]
  },
  {
   "cell_type": "code",
   "execution_count": 1,
   "metadata": {},
   "outputs": [],
   "source": [
    "import numpy as np\n",
    "import pandas as pd\n",
    "import matplotlib.pyplot as plt\n",
    "import seaborn as sns\n",
    "import scipy\n",
    "\n",
    "sns.set_theme()"
   ]
  },
  {
   "cell_type": "markdown",
   "metadata": {},
   "source": [
    "## Persiapan Data\n",
    "Diberikan suatu _dataset_ dengan nama `water_potability.csv`. Pada bagian ini, dataset tersebut akan di-_import_ ke dalam sebuah variabel yang diberi nama `data`"
   ]
  },
  {
   "cell_type": "code",
   "execution_count": 2,
   "metadata": {},
   "outputs": [
    {
     "data": {
      "text/html": [
       "<div>\n",
       "<style scoped>\n",
       "    .dataframe tbody tr th:only-of-type {\n",
       "        vertical-align: middle;\n",
       "    }\n",
       "\n",
       "    .dataframe tbody tr th {\n",
       "        vertical-align: top;\n",
       "    }\n",
       "\n",
       "    .dataframe thead th {\n",
       "        text-align: right;\n",
       "    }\n",
       "</style>\n",
       "<table border=\"1\" class=\"dataframe\">\n",
       "  <thead>\n",
       "    <tr style=\"text-align: right;\">\n",
       "      <th></th>\n",
       "      <th>id</th>\n",
       "      <th>pH</th>\n",
       "      <th>Hardness</th>\n",
       "      <th>Solids</th>\n",
       "      <th>Chloramines</th>\n",
       "      <th>Sulfate</th>\n",
       "      <th>Conductivity</th>\n",
       "      <th>OrganicCarbon</th>\n",
       "      <th>Trihalomethanes</th>\n",
       "      <th>Turbidity</th>\n",
       "      <th>Potability</th>\n",
       "    </tr>\n",
       "  </thead>\n",
       "  <tbody>\n",
       "    <tr>\n",
       "      <th>0</th>\n",
       "      <td>1</td>\n",
       "      <td>8.316766</td>\n",
       "      <td>214.373394</td>\n",
       "      <td>22018.417441</td>\n",
       "      <td>8.059332</td>\n",
       "      <td>356.886136</td>\n",
       "      <td>363.266516</td>\n",
       "      <td>18.436524</td>\n",
       "      <td>100.341674</td>\n",
       "      <td>4.628771</td>\n",
       "      <td>0</td>\n",
       "    </tr>\n",
       "    <tr>\n",
       "      <th>1</th>\n",
       "      <td>2</td>\n",
       "      <td>9.092223</td>\n",
       "      <td>181.101509</td>\n",
       "      <td>17978.986339</td>\n",
       "      <td>6.546600</td>\n",
       "      <td>310.135738</td>\n",
       "      <td>398.410813</td>\n",
       "      <td>11.558279</td>\n",
       "      <td>31.997993</td>\n",
       "      <td>4.075075</td>\n",
       "      <td>0</td>\n",
       "    </tr>\n",
       "    <tr>\n",
       "      <th>2</th>\n",
       "      <td>3</td>\n",
       "      <td>5.584087</td>\n",
       "      <td>188.313324</td>\n",
       "      <td>28748.687739</td>\n",
       "      <td>7.544869</td>\n",
       "      <td>326.678363</td>\n",
       "      <td>280.467916</td>\n",
       "      <td>8.399735</td>\n",
       "      <td>54.917862</td>\n",
       "      <td>2.559708</td>\n",
       "      <td>0</td>\n",
       "    </tr>\n",
       "    <tr>\n",
       "      <th>3</th>\n",
       "      <td>4</td>\n",
       "      <td>10.223862</td>\n",
       "      <td>248.071735</td>\n",
       "      <td>28749.716544</td>\n",
       "      <td>7.513408</td>\n",
       "      <td>393.663396</td>\n",
       "      <td>283.651634</td>\n",
       "      <td>13.789695</td>\n",
       "      <td>84.603556</td>\n",
       "      <td>2.672989</td>\n",
       "      <td>0</td>\n",
       "    </tr>\n",
       "    <tr>\n",
       "      <th>4</th>\n",
       "      <td>5</td>\n",
       "      <td>8.635849</td>\n",
       "      <td>203.361523</td>\n",
       "      <td>13672.091764</td>\n",
       "      <td>4.563009</td>\n",
       "      <td>303.309771</td>\n",
       "      <td>474.607645</td>\n",
       "      <td>12.363817</td>\n",
       "      <td>62.798309</td>\n",
       "      <td>4.401425</td>\n",
       "      <td>0</td>\n",
       "    </tr>\n",
       "  </tbody>\n",
       "</table>\n",
       "</div>"
      ],
      "text/plain": [
       "   id         pH    Hardness        Solids  Chloramines     Sulfate  \\\n",
       "0   1   8.316766  214.373394  22018.417441     8.059332  356.886136   \n",
       "1   2   9.092223  181.101509  17978.986339     6.546600  310.135738   \n",
       "2   3   5.584087  188.313324  28748.687739     7.544869  326.678363   \n",
       "3   4  10.223862  248.071735  28749.716544     7.513408  393.663396   \n",
       "4   5   8.635849  203.361523  13672.091764     4.563009  303.309771   \n",
       "\n",
       "   Conductivity  OrganicCarbon  Trihalomethanes  Turbidity  Potability  \n",
       "0    363.266516      18.436524       100.341674   4.628771           0  \n",
       "1    398.410813      11.558279        31.997993   4.075075           0  \n",
       "2    280.467916       8.399735        54.917862   2.559708           0  \n",
       "3    283.651634      13.789695        84.603556   2.672989           0  \n",
       "4    474.607645      12.363817        62.798309   4.401425           0  "
      ]
     },
     "execution_count": 2,
     "metadata": {},
     "output_type": "execute_result"
    }
   ],
   "source": [
    "data = pd.read_csv(\"water_potability.csv\")\n",
    "data.head()"
   ]
  },
  {
   "cell_type": "markdown",
   "metadata": {},
   "source": [
    "Berikut ini adalah metadata dari dataset yang telah diimport"
   ]
  },
  {
   "cell_type": "code",
   "execution_count": 3,
   "metadata": {},
   "outputs": [
    {
     "name": "stdout",
     "output_type": "stream",
     "text": [
      "<class 'pandas.core.frame.DataFrame'>\n",
      "RangeIndex: 2010 entries, 0 to 2009\n",
      "Data columns (total 11 columns):\n",
      " #   Column           Non-Null Count  Dtype  \n",
      "---  ------           --------------  -----  \n",
      " 0   id               2010 non-null   int64  \n",
      " 1   pH               2010 non-null   float64\n",
      " 2   Hardness         2010 non-null   float64\n",
      " 3   Solids           2010 non-null   float64\n",
      " 4   Chloramines      2010 non-null   float64\n",
      " 5   Sulfate          2010 non-null   float64\n",
      " 6   Conductivity     2010 non-null   float64\n",
      " 7   OrganicCarbon    2010 non-null   float64\n",
      " 8   Trihalomethanes  2010 non-null   float64\n",
      " 9   Turbidity        2010 non-null   float64\n",
      " 10  Potability       2010 non-null   int64  \n",
      "dtypes: float64(9), int64(2)\n",
      "memory usage: 172.9 KB\n"
     ]
    }
   ],
   "source": [
    "data.info()"
   ]
  },
  {
   "cell_type": "markdown",
   "metadata": {},
   "source": [
    "## Nomor 1: Deskripsi Statistika\n",
    "Pada nomor 1 ini, kami mencari deskripsi statistika (Descriptive Statistics) dari semua kolom pada data yang bersifat numerik, terdiri dari mean, median, modus, standar deviasi, variansi, range, nilai minimum, maksimum, kuartil, IQR, skewness dan kurtosis. "
   ]
  },
  {
   "cell_type": "code",
   "execution_count": 4,
   "metadata": {},
   "outputs": [
    {
     "data": {
      "text/html": [
       "<div>\n",
       "<style scoped>\n",
       "    .dataframe tbody tr th:only-of-type {\n",
       "        vertical-align: middle;\n",
       "    }\n",
       "\n",
       "    .dataframe tbody tr th {\n",
       "        vertical-align: top;\n",
       "    }\n",
       "\n",
       "    .dataframe thead th {\n",
       "        text-align: right;\n",
       "    }\n",
       "</style>\n",
       "<table border=\"1\" class=\"dataframe\">\n",
       "  <thead>\n",
       "    <tr style=\"text-align: right;\">\n",
       "      <th></th>\n",
       "      <th>id</th>\n",
       "      <th>pH</th>\n",
       "      <th>Hardness</th>\n",
       "      <th>Solids</th>\n",
       "      <th>Chloramines</th>\n",
       "      <th>Sulfate</th>\n",
       "      <th>Conductivity</th>\n",
       "      <th>OrganicCarbon</th>\n",
       "      <th>Trihalomethanes</th>\n",
       "      <th>Turbidity</th>\n",
       "      <th>Potability</th>\n",
       "    </tr>\n",
       "  </thead>\n",
       "  <tbody>\n",
       "    <tr>\n",
       "      <th>count</th>\n",
       "      <td>2010.00000</td>\n",
       "      <td>2010.000000</td>\n",
       "      <td>2010.000000</td>\n",
       "      <td>2010.000000</td>\n",
       "      <td>2010.000000</td>\n",
       "      <td>2010.000000</td>\n",
       "      <td>2010.000000</td>\n",
       "      <td>2010.000000</td>\n",
       "      <td>2010.000000</td>\n",
       "      <td>2010.000000</td>\n",
       "      <td>2010.000000</td>\n",
       "    </tr>\n",
       "    <tr>\n",
       "      <th>mean</th>\n",
       "      <td>1005.50000</td>\n",
       "      <td>7.087193</td>\n",
       "      <td>195.969209</td>\n",
       "      <td>21904.673439</td>\n",
       "      <td>7.134322</td>\n",
       "      <td>333.211376</td>\n",
       "      <td>426.476708</td>\n",
       "      <td>14.357940</td>\n",
       "      <td>66.400717</td>\n",
       "      <td>3.969497</td>\n",
       "      <td>0.402985</td>\n",
       "    </tr>\n",
       "    <tr>\n",
       "      <th>std</th>\n",
       "      <td>580.38134</td>\n",
       "      <td>1.572803</td>\n",
       "      <td>32.643166</td>\n",
       "      <td>8625.397911</td>\n",
       "      <td>1.585214</td>\n",
       "      <td>41.211111</td>\n",
       "      <td>80.701872</td>\n",
       "      <td>3.325770</td>\n",
       "      <td>16.081109</td>\n",
       "      <td>0.780471</td>\n",
       "      <td>0.490620</td>\n",
       "    </tr>\n",
       "    <tr>\n",
       "      <th>min</th>\n",
       "      <td>1.00000</td>\n",
       "      <td>0.227499</td>\n",
       "      <td>73.492234</td>\n",
       "      <td>320.942611</td>\n",
       "      <td>1.390871</td>\n",
       "      <td>129.000000</td>\n",
       "      <td>201.619737</td>\n",
       "      <td>2.200000</td>\n",
       "      <td>8.577013</td>\n",
       "      <td>1.450000</td>\n",
       "      <td>0.000000</td>\n",
       "    </tr>\n",
       "    <tr>\n",
       "      <th>25%</th>\n",
       "      <td>503.25000</td>\n",
       "      <td>6.090785</td>\n",
       "      <td>176.740657</td>\n",
       "      <td>15614.412962</td>\n",
       "      <td>6.138326</td>\n",
       "      <td>307.626986</td>\n",
       "      <td>366.619219</td>\n",
       "      <td>12.122530</td>\n",
       "      <td>55.949993</td>\n",
       "      <td>3.442882</td>\n",
       "      <td>0.000000</td>\n",
       "    </tr>\n",
       "    <tr>\n",
       "      <th>50%</th>\n",
       "      <td>1005.50000</td>\n",
       "      <td>7.029490</td>\n",
       "      <td>197.203525</td>\n",
       "      <td>20926.882155</td>\n",
       "      <td>7.142014</td>\n",
       "      <td>332.214113</td>\n",
       "      <td>423.438372</td>\n",
       "      <td>14.323286</td>\n",
       "      <td>66.482041</td>\n",
       "      <td>3.967374</td>\n",
       "      <td>0.000000</td>\n",
       "    </tr>\n",
       "    <tr>\n",
       "      <th>75%</th>\n",
       "      <td>1507.75000</td>\n",
       "      <td>8.053006</td>\n",
       "      <td>216.447589</td>\n",
       "      <td>27170.534649</td>\n",
       "      <td>8.109933</td>\n",
       "      <td>359.268147</td>\n",
       "      <td>482.209772</td>\n",
       "      <td>16.683562</td>\n",
       "      <td>77.294613</td>\n",
       "      <td>4.514663</td>\n",
       "      <td>1.000000</td>\n",
       "    </tr>\n",
       "    <tr>\n",
       "      <th>max</th>\n",
       "      <td>2010.00000</td>\n",
       "      <td>14.000000</td>\n",
       "      <td>317.338124</td>\n",
       "      <td>56488.672413</td>\n",
       "      <td>13.127000</td>\n",
       "      <td>481.030642</td>\n",
       "      <td>753.342620</td>\n",
       "      <td>27.006707</td>\n",
       "      <td>124.000000</td>\n",
       "      <td>6.494749</td>\n",
       "      <td>1.000000</td>\n",
       "    </tr>\n",
       "  </tbody>\n",
       "</table>\n",
       "</div>"
      ],
      "text/plain": [
       "               id           pH     Hardness        Solids  Chloramines  \\\n",
       "count  2010.00000  2010.000000  2010.000000   2010.000000  2010.000000   \n",
       "mean   1005.50000     7.087193   195.969209  21904.673439     7.134322   \n",
       "std     580.38134     1.572803    32.643166   8625.397911     1.585214   \n",
       "min       1.00000     0.227499    73.492234    320.942611     1.390871   \n",
       "25%     503.25000     6.090785   176.740657  15614.412962     6.138326   \n",
       "50%    1005.50000     7.029490   197.203525  20926.882155     7.142014   \n",
       "75%    1507.75000     8.053006   216.447589  27170.534649     8.109933   \n",
       "max    2010.00000    14.000000   317.338124  56488.672413    13.127000   \n",
       "\n",
       "           Sulfate  Conductivity  OrganicCarbon  Trihalomethanes    Turbidity  \\\n",
       "count  2010.000000   2010.000000    2010.000000      2010.000000  2010.000000   \n",
       "mean    333.211376    426.476708      14.357940        66.400717     3.969497   \n",
       "std      41.211111     80.701872       3.325770        16.081109     0.780471   \n",
       "min     129.000000    201.619737       2.200000         8.577013     1.450000   \n",
       "25%     307.626986    366.619219      12.122530        55.949993     3.442882   \n",
       "50%     332.214113    423.438372      14.323286        66.482041     3.967374   \n",
       "75%     359.268147    482.209772      16.683562        77.294613     4.514663   \n",
       "max     481.030642    753.342620      27.006707       124.000000     6.494749   \n",
       "\n",
       "        Potability  \n",
       "count  2010.000000  \n",
       "mean      0.402985  \n",
       "std       0.490620  \n",
       "min       0.000000  \n",
       "25%       0.000000  \n",
       "50%       0.000000  \n",
       "75%       1.000000  \n",
       "max       1.000000  "
      ]
     },
     "execution_count": 4,
     "metadata": {},
     "output_type": "execute_result"
    }
   ],
   "source": [
    "data.describe()"
   ]
  },
  {
   "cell_type": "markdown",
   "metadata": {},
   "source": [
    "Data di atas menampilkan rata-rata (ditunjukkan dengan mean), median (ditunjukkan dengan baris 50%), standar deviasi (ditunjukkan dengan std), nilai minimum (ditunjukkan dengan min), nilai maksimum (ditunjukkan dengan max), dan kuartil (ditunjukkan dengan 25% (Q1), 50% (Q2), dan 75% (Q3))."
   ]
  },
  {
   "cell_type": "markdown",
   "metadata": {},
   "source": [
    "Selanjutnya akan dicari nilai variansi untuk setiap kolom pada dataset `water_potability.csv` tersebut"
   ]
  },
  {
   "cell_type": "code",
   "execution_count": 5,
   "metadata": {},
   "outputs": [
    {
     "data": {
      "text/plain": [
       "id                 3.368425e+05\n",
       "pH                 2.473709e+00\n",
       "Hardness           1.065576e+03\n",
       "Solids             7.439749e+07\n",
       "Chloramines        2.512904e+00\n",
       "Sulfate            1.698356e+03\n",
       "Conductivity       6.512792e+03\n",
       "OrganicCarbon      1.106075e+01\n",
       "Trihalomethanes    2.586021e+02\n",
       "Turbidity          6.091350e-01\n",
       "Potability         2.407079e-01\n",
       "dtype: float64"
      ]
     },
     "execution_count": 5,
     "metadata": {},
     "output_type": "execute_result"
    }
   ],
   "source": [
    "data.var()"
   ]
  },
  {
   "cell_type": "markdown",
   "metadata": {},
   "source": [
    "Selanjutnya, akan dicari nilai range untuk setiap kolom pada dataset `water_potability.csv` tersebut"
   ]
  },
  {
   "cell_type": "code",
   "execution_count": 6,
   "metadata": {},
   "outputs": [
    {
     "data": {
      "text/plain": [
       "id                  2009.000000\n",
       "pH                    13.772501\n",
       "Hardness             243.845890\n",
       "Solids             56167.729801\n",
       "Chloramines           11.736129\n",
       "Sulfate              352.030642\n",
       "Conductivity         551.722883\n",
       "OrganicCarbon         24.806707\n",
       "Trihalomethanes      115.422987\n",
       "Turbidity              5.044749\n",
       "Potability             1.000000\n",
       "dtype: float64"
      ]
     },
     "execution_count": 6,
     "metadata": {},
     "output_type": "execute_result"
    }
   ],
   "source": [
    "data.max() - data.min()"
   ]
  },
  {
   "cell_type": "markdown",
   "metadata": {},
   "source": [
    "Selanjutnya akan dicari nilai IQR untuk setiap kolom pada dataset `water_potability.csv` tersebut"
   ]
  },
  {
   "cell_type": "code",
   "execution_count": 7,
   "metadata": {},
   "outputs": [
    {
     "data": {
      "text/plain": [
       "id                  1004.500000\n",
       "pH                     1.962221\n",
       "Hardness              39.706932\n",
       "Solids             11556.121687\n",
       "Chloramines            1.971607\n",
       "Sulfate               51.641161\n",
       "Conductivity         115.590553\n",
       "OrganicCarbon          4.561031\n",
       "Trihalomethanes       21.344620\n",
       "Turbidity              1.071781\n",
       "Potability             1.000000\n",
       "dtype: float64"
      ]
     },
     "execution_count": 7,
     "metadata": {},
     "output_type": "execute_result"
    }
   ],
   "source": [
    "q1 = data.quantile(0.25)\n",
    "q3 = data.quantile(0.75)\n",
    "q3 - q1"
   ]
  },
  {
   "cell_type": "markdown",
   "metadata": {},
   "source": [
    "Selanjutnya akan dicari nilai skewness untuk setiap kolom pada dataset `water_potability.csv` tersebut"
   ]
  },
  {
   "cell_type": "code",
   "execution_count": 8,
   "metadata": {},
   "outputs": [
    {
     "data": {
      "text/plain": [
       "id                 0.000000\n",
       "pH                 0.048535\n",
       "Hardness          -0.085321\n",
       "Solids             0.591011\n",
       "Chloramines        0.013003\n",
       "Sulfate           -0.045728\n",
       "Conductivity       0.268012\n",
       "OrganicCarbon     -0.020220\n",
       "Trihalomethanes   -0.051383\n",
       "Turbidity         -0.032266\n",
       "Potability         0.395873\n",
       "dtype: float64"
      ]
     },
     "execution_count": 8,
     "metadata": {},
     "output_type": "execute_result"
    }
   ],
   "source": [
    "data.skew()"
   ]
  },
  {
   "cell_type": "markdown",
   "metadata": {},
   "source": [
    "Selanjutnya ditentukan nilai kurtosis untuk setiap kolom pada dataset `water_potability.csv` tersebut"
   ]
  },
  {
   "cell_type": "code",
   "execution_count": 9,
   "metadata": {},
   "outputs": [
    {
     "data": {
      "text/plain": [
       "id                -1.200000\n",
       "pH                 0.626904\n",
       "Hardness           0.525480\n",
       "Solids             0.337320\n",
       "Chloramines        0.549782\n",
       "Sulfate            0.786854\n",
       "Conductivity      -0.237206\n",
       "OrganicCarbon      0.031018\n",
       "Trihalomethanes    0.223017\n",
       "Turbidity         -0.049831\n",
       "Potability        -1.845122\n",
       "dtype: float64"
      ]
     },
     "execution_count": 9,
     "metadata": {},
     "output_type": "execute_result"
    }
   ],
   "source": [
    "data.kurtosis()"
   ]
  },
  {
   "cell_type": "markdown",
   "metadata": {},
   "source": [
    "Selanjutnya akan dicari nilai modus untuk setiap kolom pada dataset `water_potability.csv` tersebut"
   ]
  },
  {
   "cell_type": "code",
   "execution_count": 10,
   "metadata": {},
   "outputs": [
    {
     "data": {
      "text/html": [
       "<div>\n",
       "<style scoped>\n",
       "    .dataframe tbody tr th:only-of-type {\n",
       "        vertical-align: middle;\n",
       "    }\n",
       "\n",
       "    .dataframe tbody tr th {\n",
       "        vertical-align: top;\n",
       "    }\n",
       "\n",
       "    .dataframe thead th {\n",
       "        text-align: right;\n",
       "    }\n",
       "</style>\n",
       "<table border=\"1\" class=\"dataframe\">\n",
       "  <thead>\n",
       "    <tr style=\"text-align: right;\">\n",
       "      <th></th>\n",
       "      <th>id</th>\n",
       "      <th>pH</th>\n",
       "      <th>Hardness</th>\n",
       "      <th>Solids</th>\n",
       "      <th>Chloramines</th>\n",
       "      <th>Sulfate</th>\n",
       "      <th>Conductivity</th>\n",
       "      <th>OrganicCarbon</th>\n",
       "      <th>Trihalomethanes</th>\n",
       "      <th>Turbidity</th>\n",
       "      <th>Potability</th>\n",
       "    </tr>\n",
       "  </thead>\n",
       "  <tbody>\n",
       "    <tr>\n",
       "      <th>0</th>\n",
       "      <td>1</td>\n",
       "      <td>0.227499</td>\n",
       "      <td>73.492234</td>\n",
       "      <td>320.942611</td>\n",
       "      <td>1.390871</td>\n",
       "      <td>129.000000</td>\n",
       "      <td>201.619737</td>\n",
       "      <td>2.200000</td>\n",
       "      <td>8.577013</td>\n",
       "      <td>1.450000</td>\n",
       "      <td>0.0</td>\n",
       "    </tr>\n",
       "    <tr>\n",
       "      <th>1</th>\n",
       "      <td>2</td>\n",
       "      <td>0.989912</td>\n",
       "      <td>77.459586</td>\n",
       "      <td>1198.943699</td>\n",
       "      <td>1.920271</td>\n",
       "      <td>180.206746</td>\n",
       "      <td>210.319182</td>\n",
       "      <td>4.371899</td>\n",
       "      <td>14.343161</td>\n",
       "      <td>1.492207</td>\n",
       "      <td>NaN</td>\n",
       "    </tr>\n",
       "    <tr>\n",
       "      <th>2</th>\n",
       "      <td>3</td>\n",
       "      <td>1.431782</td>\n",
       "      <td>81.710895</td>\n",
       "      <td>1351.906979</td>\n",
       "      <td>2.397985</td>\n",
       "      <td>182.397370</td>\n",
       "      <td>233.907965</td>\n",
       "      <td>4.466772</td>\n",
       "      <td>15.684877</td>\n",
       "      <td>1.496101</td>\n",
       "      <td>NaN</td>\n",
       "    </tr>\n",
       "    <tr>\n",
       "      <th>3</th>\n",
       "      <td>4</td>\n",
       "      <td>1.757037</td>\n",
       "      <td>94.091307</td>\n",
       "      <td>1372.091043</td>\n",
       "      <td>2.456014</td>\n",
       "      <td>187.170714</td>\n",
       "      <td>245.859632</td>\n",
       "      <td>4.861631</td>\n",
       "      <td>16.291505</td>\n",
       "      <td>1.680554</td>\n",
       "      <td>NaN</td>\n",
       "    </tr>\n",
       "    <tr>\n",
       "      <th>4</th>\n",
       "      <td>5</td>\n",
       "      <td>1.985383</td>\n",
       "      <td>94.812545</td>\n",
       "      <td>2552.962804</td>\n",
       "      <td>2.458609</td>\n",
       "      <td>187.424131</td>\n",
       "      <td>252.968328</td>\n",
       "      <td>4.966862</td>\n",
       "      <td>17.527765</td>\n",
       "      <td>1.812529</td>\n",
       "      <td>NaN</td>\n",
       "    </tr>\n",
       "    <tr>\n",
       "      <th>...</th>\n",
       "      <td>...</td>\n",
       "      <td>...</td>\n",
       "      <td>...</td>\n",
       "      <td>...</td>\n",
       "      <td>...</td>\n",
       "      <td>...</td>\n",
       "      <td>...</td>\n",
       "      <td>...</td>\n",
       "      <td>...</td>\n",
       "      <td>...</td>\n",
       "      <td>...</td>\n",
       "    </tr>\n",
       "    <tr>\n",
       "      <th>2005</th>\n",
       "      <td>2006</td>\n",
       "      <td>11.568768</td>\n",
       "      <td>286.567991</td>\n",
       "      <td>50793.898917</td>\n",
       "      <td>12.580026</td>\n",
       "      <td>458.441072</td>\n",
       "      <td>666.690618</td>\n",
       "      <td>23.569645</td>\n",
       "      <td>114.034946</td>\n",
       "      <td>6.307678</td>\n",
       "      <td>NaN</td>\n",
       "    </tr>\n",
       "    <tr>\n",
       "      <th>2006</th>\n",
       "      <td>2007</td>\n",
       "      <td>11.898078</td>\n",
       "      <td>287.975540</td>\n",
       "      <td>53735.899194</td>\n",
       "      <td>12.626900</td>\n",
       "      <td>460.107069</td>\n",
       "      <td>669.725086</td>\n",
       "      <td>23.604298</td>\n",
       "      <td>114.208671</td>\n",
       "      <td>6.357439</td>\n",
       "      <td>NaN</td>\n",
       "    </tr>\n",
       "    <tr>\n",
       "      <th>2007</th>\n",
       "      <td>2008</td>\n",
       "      <td>12.246928</td>\n",
       "      <td>300.292476</td>\n",
       "      <td>55334.702799</td>\n",
       "      <td>12.653362</td>\n",
       "      <td>475.737460</td>\n",
       "      <td>695.369528</td>\n",
       "      <td>23.917601</td>\n",
       "      <td>116.161622</td>\n",
       "      <td>6.389161</td>\n",
       "      <td>NaN</td>\n",
       "    </tr>\n",
       "    <tr>\n",
       "      <th>2008</th>\n",
       "      <td>2009</td>\n",
       "      <td>13.349889</td>\n",
       "      <td>306.627481</td>\n",
       "      <td>56351.396304</td>\n",
       "      <td>13.043806</td>\n",
       "      <td>476.539717</td>\n",
       "      <td>708.226364</td>\n",
       "      <td>24.755392</td>\n",
       "      <td>120.030077</td>\n",
       "      <td>6.494249</td>\n",
       "      <td>NaN</td>\n",
       "    </tr>\n",
       "    <tr>\n",
       "      <th>2009</th>\n",
       "      <td>2010</td>\n",
       "      <td>14.000000</td>\n",
       "      <td>317.338124</td>\n",
       "      <td>56488.672413</td>\n",
       "      <td>13.127000</td>\n",
       "      <td>481.030642</td>\n",
       "      <td>753.342620</td>\n",
       "      <td>27.006707</td>\n",
       "      <td>124.000000</td>\n",
       "      <td>6.494749</td>\n",
       "      <td>NaN</td>\n",
       "    </tr>\n",
       "  </tbody>\n",
       "</table>\n",
       "<p>2010 rows × 11 columns</p>\n",
       "</div>"
      ],
      "text/plain": [
       "        id         pH    Hardness        Solids  Chloramines     Sulfate  \\\n",
       "0        1   0.227499   73.492234    320.942611     1.390871  129.000000   \n",
       "1        2   0.989912   77.459586   1198.943699     1.920271  180.206746   \n",
       "2        3   1.431782   81.710895   1351.906979     2.397985  182.397370   \n",
       "3        4   1.757037   94.091307   1372.091043     2.456014  187.170714   \n",
       "4        5   1.985383   94.812545   2552.962804     2.458609  187.424131   \n",
       "...    ...        ...         ...           ...          ...         ...   \n",
       "2005  2006  11.568768  286.567991  50793.898917    12.580026  458.441072   \n",
       "2006  2007  11.898078  287.975540  53735.899194    12.626900  460.107069   \n",
       "2007  2008  12.246928  300.292476  55334.702799    12.653362  475.737460   \n",
       "2008  2009  13.349889  306.627481  56351.396304    13.043806  476.539717   \n",
       "2009  2010  14.000000  317.338124  56488.672413    13.127000  481.030642   \n",
       "\n",
       "      Conductivity  OrganicCarbon  Trihalomethanes  Turbidity  Potability  \n",
       "0       201.619737       2.200000         8.577013   1.450000         0.0  \n",
       "1       210.319182       4.371899        14.343161   1.492207         NaN  \n",
       "2       233.907965       4.466772        15.684877   1.496101         NaN  \n",
       "3       245.859632       4.861631        16.291505   1.680554         NaN  \n",
       "4       252.968328       4.966862        17.527765   1.812529         NaN  \n",
       "...            ...            ...              ...        ...         ...  \n",
       "2005    666.690618      23.569645       114.034946   6.307678         NaN  \n",
       "2006    669.725086      23.604298       114.208671   6.357439         NaN  \n",
       "2007    695.369528      23.917601       116.161622   6.389161         NaN  \n",
       "2008    708.226364      24.755392       120.030077   6.494249         NaN  \n",
       "2009    753.342620      27.006707       124.000000   6.494749         NaN  \n",
       "\n",
       "[2010 rows x 11 columns]"
      ]
     },
     "execution_count": 10,
     "metadata": {},
     "output_type": "execute_result"
    }
   ],
   "source": [
    "data.mode()"
   ]
  },
  {
   "cell_type": "code",
   "execution_count": 11,
   "metadata": {},
   "outputs": [
    {
     "data": {
      "text/plain": [
       "(2010, 11)"
      ]
     },
     "execution_count": 11,
     "metadata": {},
     "output_type": "execute_result"
    }
   ],
   "source": [
    "data.shape"
   ]
  },
  {
   "cell_type": "markdown",
   "metadata": {},
   "source": [
    "Pada data di atas, terlihat bahwa nilai modus pada kolom selain kolom _portability_ memiliki nilai lebih dari satu. Lebih jauh lagi, setiap kolom numerik selain kolom _portability_ memiliki data yang unik sehingga semua nilai merupakan nilai modus."
   ]
  },
  {
   "cell_type": "markdown",
   "metadata": {},
   "source": [
    "## Nomor 2: Visualisasi\n",
    "Pada nomor ini, akan ditampilkan visualisasi distribusi plot untuk setiap kolom numerik"
   ]
  },
  {
   "cell_type": "markdown",
   "metadata": {},
   "source": [
    "### Data pH\n",
    "Berikut ini adalah histogram untuk data pH pada dataset `water_portability.csv`"
   ]
  },
  {
   "cell_type": "code",
   "execution_count": 12,
   "metadata": {},
   "outputs": [
    {
     "data": {
      "text/plain": [
       "<AxesSubplot:xlabel='pH', ylabel='Count'>"
      ]
     },
     "execution_count": 12,
     "metadata": {},
     "output_type": "execute_result"
    },
    {
     "data": {
      "image/png": "[encoded data removed]",
      "text/plain": [
       "<Figure size 432x288 with 1 Axes>"
      ]
     },
     "metadata": {},
     "output_type": "display_data"
    }
   ],
   "source": [
    "sns.histplot(data,x=\"pH\")"
   ]
  },
  {
   "cell_type": "markdown",
   "metadata": {},
   "source": [
    "Berikut ini adalah boxplot untuk data pH pada dataset `water_portability.csv`"
   ]
  },
  {
   "cell_type": "code",
   "execution_count": 13,
   "metadata": {},
   "outputs": [
    {
     "data": {
      "text/plain": [
       "<AxesSubplot:xlabel='pH'>"
      ]
     },
     "execution_count": 13,
     "metadata": {},
     "output_type": "execute_result"
    },
    {
     "data": {
      "image/png": "[encoded data removed]",
      "text/plain": [
       "<Figure size 432x288 with 1 Axes>"
      ]
     },
     "metadata": {},
     "output_type": "display_data"
    }
   ],
   "source": [
    "sns.boxplot(data = data, x = \"pH\")"
   ]
  },
  {
   "cell_type": "markdown",
   "metadata": {},
   "source": [
    "### Data Hardness\n",
    "Berikut ini adalah histogram untuk data Hardness pada dataset `water_portability.csv`"
   ]
  },
  {
   "cell_type": "code",
   "execution_count": 14,
   "metadata": {},
   "outputs": [
    {
     "data": {
      "text/plain": [
       "<AxesSubplot:xlabel='Hardness', ylabel='Count'>"
      ]
     },
     "execution_count": 14,
     "metadata": {},
     "output_type": "execute_result"
    },
    {
     "data": {
      "image/png": "[encoded data removed]",
      "text/plain": [
       "<Figure size 432x288 with 1 Axes>"
      ]
     },
     "metadata": {},
     "output_type": "display_data"
    }
   ],
   "source": [
    "sns.histplot(data,x=\"Hardness\")"
   ]
  },
  {
   "cell_type": "markdown",
   "metadata": {},
   "source": [
    "Berikut ini adalah boxplot untuk data Hardness pada dataset `water_portability.csv`"
   ]
  },
  {
   "cell_type": "code",
   "execution_count": 15,
   "metadata": {},
   "outputs": [
    {
     "data": {
      "text/plain": [
       "<AxesSubplot:xlabel='Hardness'>"
      ]
     },
     "execution_count": 15,
     "metadata": {},
     "output_type": "execute_result"
    },
    {
     "data": {
      "image/png": "[encoded data removed]",
      "text/plain": [
       "<Figure size 432x288 with 1 Axes>"
      ]
     },
     "metadata": {},
     "output_type": "display_data"
    }
   ],
   "source": [
    "sns.boxplot(data = data, x = \"Hardness\")"
   ]
  },
  {
   "cell_type": "markdown",
   "metadata": {},
   "source": [
    "### Data Solids\n",
    "Berikut ini adalah histogram untuk data Solids pada dataset `water_portability.csv`"
   ]
  },
  {
   "cell_type": "code",
   "execution_count": 16,
   "metadata": {},
   "outputs": [
    {
     "data": {
      "text/plain": [
       "<AxesSubplot:xlabel='Solids', ylabel='Count'>"
      ]
     },
     "execution_count": 16,
     "metadata": {},
     "output_type": "execute_result"
    },
    {
     "data": {
      "image/png": "[encoded data removed]",
      "text/plain": [
       "<Figure size 432x288 with 1 Axes>"
      ]
     },
     "metadata": {},
     "output_type": "display_data"
    }
   ],
   "source": [
    "sns.histplot(data,x=\"Solids\")"
   ]
  },
  {
   "cell_type": "markdown",
   "metadata": {},
   "source": [
    "Berikut ini adalah boxplot untuk data Solids pada dataset `water_portability.csv`"
   ]
  },
  {
   "cell_type": "code",
   "execution_count": 17,
   "metadata": {},
   "outputs": [
    {
     "data": {
      "text/plain": [
       "<AxesSubplot:xlabel='Solids'>"
      ]
     },
     "execution_count": 17,
     "metadata": {},
     "output_type": "execute_result"
    },
    {
     "data": {
      "image/png": "[encoded data removed]",
      "text/plain": [
       "<Figure size 432x288 with 1 Axes>"
      ]
     },
     "metadata": {},
     "output_type": "display_data"
    }
   ],
   "source": [
    "sns.boxplot(data = data, x = \"Solids\")"
   ]
  },
  {
   "cell_type": "markdown",
   "metadata": {},
   "source": [
    "### Data Chloramines\n",
    "Berikut ini adalah histogram untuk data Chloramines pada dataset `water_portability.csv`"
   ]
  },
  {
   "cell_type": "code",
   "execution_count": 18,
   "metadata": {},
   "outputs": [
    {
     "data": {
      "text/plain": [
       "<AxesSubplot:xlabel='Chloramines', ylabel='Count'>"
      ]
     },
     "execution_count": 18,
     "metadata": {},
     "output_type": "execute_result"
    },
    {
     "data": {
      "image/png": "[encoded data removed]",
      "text/plain": [
       "<Figure size 432x288 with 1 Axes>"
      ]
     },
     "metadata": {},
     "output_type": "display_data"
    }
   ],
   "source": [
    "sns.histplot(data,x=\"Chloramines\")"
   ]
  },
  {
   "cell_type": "markdown",
   "metadata": {},
   "source": [
    "Berikut ini adalah boxplot untuk data Chloramines pada dataset `water_portability.csv`"
   ]
  },
  {
   "cell_type": "code",
   "execution_count": 19,
   "metadata": {},
   "outputs": [
    {
     "data": {
      "text/plain": [
       "<AxesSubplot:xlabel='Chloramines'>"
      ]
     },
     "execution_count": 19,
     "metadata": {},
     "output_type": "execute_result"
    },
    {
     "data": {
      "image/png": "[encoded data removed]",
      "text/plain": [
       "<Figure size 432x288 with 1 Axes>"
      ]
     },
     "metadata": {},
     "output_type": "display_data"
    }
   ],
   "source": [
    "sns.boxplot(data = data, x = \"Chloramines\")"
   ]
  },
  {
   "cell_type": "markdown",
   "metadata": {},
   "source": [
    "### Data Sulfate\n",
    "Berikut ini adalah histogram untuk data Sulfate pada dataset `water_portability.csv`"
   ]
  },
  {
   "cell_type": "code",
   "execution_count": 20,
   "metadata": {},
   "outputs": [
    {
     "data": {
      "text/plain": [
       "<AxesSubplot:xlabel='Sulfate', ylabel='Count'>"
      ]
     },
     "execution_count": 20,
     "metadata": {},
     "output_type": "execute_result"
    },
    {
     "data": {
      "image/png": "[encoded data removed]",
      "text/plain": [
       "<Figure size 432x288 with 1 Axes>"
      ]
     },
     "metadata": {},
     "output_type": "display_data"
    }
   ],
   "source": [
    "sns.histplot(data,x=\"Sulfate\")"
   ]
  },
  {
   "cell_type": "markdown",
   "metadata": {},
   "source": [
    "Berikut ini adalah boxplot untuk data Sulfate pada dataset `water_portability.csv`"
   ]
  },
  {
   "cell_type": "code",
   "execution_count": 21,
   "metadata": {},
   "outputs": [
    {
     "data": {
      "text/plain": [
       "<AxesSubplot:xlabel='Sulfate'>"
      ]
     },
     "execution_count": 21,
     "metadata": {},
     "output_type": "execute_result"
    },
    {
     "data": {
      "image/png": "[encoded data removed]",
      "text/plain": [
       "<Figure size 432x288 with 1 Axes>"
      ]
     },
     "metadata": {},
     "output_type": "display_data"
    }
   ],
   "source": [
    "sns.boxplot(data = data, x = \"Sulfate\")"
   ]
  },
  {
   "cell_type": "markdown",
   "metadata": {},
   "source": [
    "### Data Conductivity\n",
    "Berikut ini adalah histogram untuk data Conductivity pada dataset `water_portability.csv`"
   ]
  },
  {
   "cell_type": "code",
   "execution_count": 22,
   "metadata": {},
   "outputs": [
    {
     "data": {
      "text/plain": [
       "<AxesSubplot:xlabel='Conductivity', ylabel='Count'>"
      ]
     },
     "execution_count": 22,
     "metadata": {},
     "output_type": "execute_result"
    },
    {
     "data": {
      "image/png": "[encoded data removed]",
      "text/plain": [
       "<Figure size 432x288 with 1 Axes>"
      ]
     },
     "metadata": {},
     "output_type": "display_data"
    }
   ],
   "source": [
    "sns.histplot(data,x=\"Conductivity\")"
   ]
  },
  {
   "cell_type": "markdown",
   "metadata": {},
   "source": [
    "Berikut ini adalah boxplot untuk data Conductivity pada dataset `water_portability.csv`"
   ]
  },
  {
   "cell_type": "code",
   "execution_count": 23,
   "metadata": {},
   "outputs": [
    {
     "data": {
      "text/plain": [
       "<AxesSubplot:xlabel='Conductivity'>"
      ]
     },
     "execution_count": 23,
     "metadata": {},
     "output_type": "execute_result"
    },
    {
     "data": {
      "image/png": "[encoded data removed]",
      "text/plain": [
       "<Figure size 432x288 with 1 Axes>"
      ]
     },
     "metadata": {},
     "output_type": "display_data"
    }
   ],
   "source": [
    "sns.boxplot(data = data, x = \"Conductivity\")"
   ]
  },
  {
   "cell_type": "markdown",
   "metadata": {},
   "source": [
    "### Data OrganicCarbon\n",
    "Berikut ini adalah histogram untuk data OrganicCarbon pada dataset `water_portability.csv`"
   ]
  },
  {
   "cell_type": "code",
   "execution_count": 24,
   "metadata": {},
   "outputs": [
    {
     "data": {
      "text/plain": [
       "<AxesSubplot:xlabel='OrganicCarbon', ylabel='Count'>"
      ]
     },
     "execution_count": 24,
     "metadata": {},
     "output_type": "execute_result"
    },
    {
     "data": {
      "image/png": "[encoded data removed]",
      "text/plain": [
       "<Figure size 432x288 with 1 Axes>"
      ]
     },
     "metadata": {},
     "output_type": "display_data"
    }
   ],
   "source": [
    "sns.histplot(data,x=\"OrganicCarbon\")"
   ]
  },
  {
   "cell_type": "markdown",
   "metadata": {},
   "source": [
    "Berikut ini adalah boxplot untuk data OrganicCarbon pada dataset `water_portability.csv`"
   ]
  },
  {
   "cell_type": "code",
   "execution_count": 25,
   "metadata": {},
   "outputs": [
    {
     "data": {
      "text/plain": [
       "<AxesSubplot:xlabel='OrganicCarbon'>"
      ]
     },
     "execution_count": 25,
     "metadata": {},
     "output_type": "execute_result"
    },
    {
     "data": {
      "image/png": "[encoded data removed]",
      "text/plain": [
       "<Figure size 432x288 with 1 Axes>"
      ]
     },
     "metadata": {},
     "output_type": "display_data"
    }
   ],
   "source": [
    "sns.boxplot(data = data, x = \"OrganicCarbon\")"
   ]
  },
  {
   "cell_type": "markdown",
   "metadata": {},
   "source": [
    "### Data Trihalomethanes\n",
    "Berikut ini adalah histogram untuk data Trihalomethanes pada dataset `water_portability.csv`"
   ]
  },
  {
   "cell_type": "code",
   "execution_count": 26,
   "metadata": {},
   "outputs": [
    {
     "data": {
      "text/plain": [
       "<AxesSubplot:xlabel='Trihalomethanes', ylabel='Count'>"
      ]
     },
     "execution_count": 26,
     "metadata": {},
     "output_type": "execute_result"
    },
    {
     "data": {
      "image/png": "[encoded data removed]",
      "text/plain": [
       "<Figure size 432x288 with 1 Axes>"
      ]
     },
     "metadata": {},
     "output_type": "display_data"
    }
   ],
   "source": [
    "sns.histplot(data,x=\"Trihalomethanes\")"
   ]
  },
  {
   "cell_type": "markdown",
   "metadata": {},
   "source": [
    "Berikut ini adalah boxplot untuk data Trihalomethanes pada dataset `water_portability.csv`"
   ]
  },
  {
   "cell_type": "code",
   "execution_count": 27,
   "metadata": {},
   "outputs": [
    {
     "data": {
      "text/plain": [
       "<AxesSubplot:xlabel='Trihalomethanes'>"
      ]
     },
     "execution_count": 27,
     "metadata": {},
     "output_type": "execute_result"
    },
    {
     "data": {
      "image/png": "[encoded data removed]",
      "text/plain": [
       "<Figure size 432x288 with 1 Axes>"
      ]
     },
     "metadata": {},
     "output_type": "display_data"
    }
   ],
   "source": [
    "sns.boxplot(data = data, x = \"Trihalomethanes\")"
   ]
  },
  {
   "cell_type": "markdown",
   "metadata": {},
   "source": [
    "### Data Turbidity\n",
    "Berikut ini adalah histogram untuk data Turbidity pada dataset `water_portability.csv`"
   ]
  },
  {
   "cell_type": "code",
   "execution_count": 28,
   "metadata": {},
   "outputs": [
    {
     "data": {
      "text/plain": [
       "<AxesSubplot:xlabel='Turbidity', ylabel='Count'>"
      ]
     },
     "execution_count": 28,
     "metadata": {},
     "output_type": "execute_result"
    },
    {
     "data": {
      "image/png": "[encoded data removed]",
      "text/plain": [
       "<Figure size 432x288 with 1 Axes>"
      ]
     },
     "metadata": {},
     "output_type": "display_data"
    }
   ],
   "source": [
    "sns.histplot(data,x=\"Turbidity\")"
   ]
  },
  {
   "cell_type": "markdown",
   "metadata": {},
   "source": [
    "Berikut ini adalah boxplot untuk data Turbidity pada dataset `water_portability.csv`"
   ]
  },
  {
   "cell_type": "code",
   "execution_count": 29,
   "metadata": {},
   "outputs": [
    {
     "data": {
      "text/plain": [
       "<AxesSubplot:xlabel='Turbidity'>"
      ]
     },
     "execution_count": 29,
     "metadata": {},
     "output_type": "execute_result"
    },
    {
     "data": {
      "image/png": "[encoded data removed]",
      "text/plain": [
       "<Figure size 432x288 with 1 Axes>"
      ]
     },
     "metadata": {},
     "output_type": "display_data"
    }
   ],
   "source": [
    "sns.boxplot(data = data, x = \"Turbidity\")"
   ]
  },
  {
   "cell_type": "markdown",
   "metadata": {},
   "source": [
    "## Nomor 3: Tes Distribusi Normal\n",
    "Pada bagian ini, akan dites apakah setiap kolom berdistribusi normal atau tidak. Kolom yang  akan dianalisis adalah kolom numerik, yaiur kolom 2 sampai dengan kolom 10."
   ]
  },
  {
   "cell_type": "markdown",
   "metadata": {},
   "source": [
    "### Metode Tes"
   ]
  },
  {
   "cell_type": "markdown",
   "metadata": {},
   "source": [
    "Metode pengetesan akan dilakukan dengan dua cara, yaitu metode grafik dan statistik. \n",
    "\n",
    "#### Metode Grafik\n",
    "\n",
    "Pada metode grafik, kami akan menggunakan QQ Plot dengan histogram. Pada tahap ini kami hanya mengamati seberapa dekat suatu kolom dengan normalnya."
   ]
  },
  {
   "cell_type": "markdown",
   "metadata": {},
   "source": [
    "Pembuatan grafik QQ dapat dilakukan dengan menjadikan setiap data merupakan quantiles dari semua data. Setelah itu, setiap quantiles dihitung korespondensinya terhadap tabel normal. Setelah itu akan dilakukan plotting menggunakan scatter plot dan dibuat regresinya. Apabila kebanyakan titik berada pada garis, maka data berdistribusi normal."
   ]
  },
  {
   "cell_type": "markdown",
   "metadata": {},
   "source": [
    "Berikut ini adalah fungsi yang akan membantu membuat QQ Plot"
   ]
  },
  {
   "cell_type": "code",
   "execution_count": 30,
   "metadata": {},
   "outputs": [],
   "source": [
    "def QQ_Plot(data):\n",
    "  dataset = np.sort(data)\n",
    "  norm = scipy.stats.norm()\n",
    "  normalDataset = np.array([\n",
    "    norm.ppf((i+0.5)/len(dataset)) for i in range(len(dataset))\n",
    "  ])\n",
    "\n",
    "  sns.regplot(x=normalDataset, y=dataset)\n",
    "  plt.xlabel(\"Normal Quantiles\")\n",
    "  plt.ylabel(\"Data Quantiles\")"
   ]
  },
  {
   "cell_type": "markdown",
   "metadata": {},
   "source": [
    "#### Metode Statistik\n",
    "\n",
    "Pada metode statistik, kami menggunakan D'Agostino-Pearson Omnibus test untuk pengujian statistik. Pengetesan akan dilakukan dengan menggunakan pengujian hipotestis. \n",
    "\n",
    "Berikut ini adalah hipotesinya:\n",
    "1.  Hipotesis nol ($H_0$) dari pengetesan ini adalah kolom berdistribusi normal.\n",
    "2.  Hipotesis slternatif ($H_1$) dari pengetesan ini adalah kolom tidak berdistribusi normal.\n",
    "\n",
    "Tingkat signifikansi yang digunakan adalah $\\alpha = 0.05$\n"
   ]
  },
  {
   "cell_type": "code",
   "execution_count": 31,
   "metadata": {},
   "outputs": [],
   "source": [
    "alpha = 0.05"
   ]
  },
  {
   "cell_type": "markdown",
   "metadata": {},
   "source": [
    "\n",
    "Berikut ini adalah langkah pengujian statistik yang dilakukan:\n",
    "1. Kurtosis dan juga skewness dari sebuah kolom perlu dihitung terlebih dahulu.\n",
    "2. Menghitung error standard untuk skewness. Rumus untuk perhitungan skewness standard error adalah sebagai berikut:\n",
    "$$\n",
    "s.e = \\sqrt{\\frac{6n(n-1)}{(n-2)(n+1)(n+3)}}\n",
    "$$\n",
    "3. Menghitung error standar untuk kurtosis. Rumus untuk melakukan perhitungan ini adalah sebagai berikut:\n",
    "$$\n",
    "k.e = 2\\cdot(s.e)\\cdot\\sqrt{\\frac{n^2-1}{(n-3)(n+5)}}\n",
    "$$\n",
    "4. Perlu dihtung standar score untu skewness. Berikut ini adalah rumusnya:\n",
    "$$\n",
    "z_s = \\frac{Sk}{s.e}\n",
    "$$\n",
    "5. Perlu dihitung standar error untuk kurtosis. Berikut ini adalah rumusnya:\n",
    "$$\n",
    "z_k = \\frac{Kur}{k.e}\n",
    "$$\n",
    "6. Jumlah kuadrat dari Nilai dari standar skor untuk skewness dan kurtosis dapat didekatkan dengan distribusi chi-square derajat dua.\n",
    "$$\n",
    "z_x^2+z_k^2 \\approx \\chi^2_{\\alpha}\n",
    "$$\n",
    "Oleh karena itu, nilai p dapat dihitung dengan mencari distribusi dari chi-square berderajat 2.\n",
    "\n",
    "Proses diatas dapat dilakukan dengan menggunakan library dari scipy,  yaitu `scipy.stat.normaltest`.\n",
    "\n",
    "Pada langkah terakhir, akan diperiksa apakah nilai p kurang dari level signifikansi. Bila kurang, maka hipotesis $H_0$ dapat ditolak."
   ]
  },
  {
   "cell_type": "markdown",
   "metadata": {},
   "source": [
    "### Data pH"
   ]
  },
  {
   "cell_type": "markdown",
   "metadata": {},
   "source": [
    "Pada bagian ini, akan dicoba untuk melakukan test normal pada data pH. Berikut ini adalah histogram dan juga QQ plot dari data pH."
   ]
  },
  {
   "cell_type": "code",
   "execution_count": 32,
   "metadata": {},
   "outputs": [
    {
     "data": {
      "text/plain": [
       "Text(0.5, 1.0, 'QQ Plot pH')"
      ]
     },
     "execution_count": 32,
     "metadata": {},
     "output_type": "execute_result"
    },
    {
     "data": {
      "image/png": "[encoded data removed]",
      "text/plain": [
       "<Figure size 432x288 with 1 Axes>"
      ]
     },
     "metadata": {},
     "output_type": "display_data"
    }
   ],
   "source": [
    "QQ_Plot(data[\"pH\"])\n",
    "plt.title(\"QQ Plot pH\")"
   ]
  },
  {
   "cell_type": "code",
   "execution_count": 33,
   "metadata": {},
   "outputs": [
    {
     "data": {
      "text/plain": [
       "Text(0.5, 1.0, 'Histogram data pH')"
      ]
     },
     "execution_count": 33,
     "metadata": {},
     "output_type": "execute_result"
    },
    {
     "data": {
      "image/png": "[encoded data removed]",
      "text/plain": [
       "<Figure size 432x288 with 1 Axes>"
      ]
     },
     "metadata": {},
     "output_type": "display_data"
    }
   ],
   "source": [
    "sns.histplot(data=data, x=\"pH\", kde=True)\n",
    "plt.title(\"Histogram data pH\")"
   ]
  },
  {
   "cell_type": "markdown",
   "metadata": {},
   "source": [
    "Dari kedua grafik diatas, data pH terlihat data bisa jadi tidak berdistribusi normal. Hal ini terlihat pada ujung kiri dan ujung kanan QQ Plot yang menjauh dari garis."
   ]
  },
  {
   "cell_type": "markdown",
   "metadata": {},
   "source": [
    "Pada bagian selanjutnya, data akan diuji menggunakan pendekatan statistik."
   ]
  },
  {
   "cell_type": "code",
   "execution_count": 34,
   "metadata": {},
   "outputs": [
    {
     "name": "stdout",
     "output_type": "stream",
     "text": [
      "p = 2.6514813346797777e-05\n",
      "Data tidak berdistribusi normal\n"
     ]
    }
   ],
   "source": [
    "_, p = scipy.stats.normaltest(data[\"pH\"])\n",
    "print(f\"p = {p}\")\n",
    "\n",
    "if p < alpha:\n",
    "  print(\"Data tidak berdistribusi normal\")\n",
    "else:\n",
    "  print(\"Data berdistribusi normal\")"
   ]
  },
  {
   "cell_type": "markdown",
   "metadata": {},
   "source": [
    "### Data Hardness"
   ]
  },
  {
   "cell_type": "markdown",
   "metadata": {},
   "source": [
    "Pada bagian ini, akan dicoba untuk melakukan test normal pada data Hardness. Berikut ini adalah histogram dan juga QQ plot dari data Hardness."
   ]
  },
  {
   "cell_type": "code",
   "execution_count": 35,
   "metadata": {},
   "outputs": [
    {
     "data": {
      "text/plain": [
       "Text(0.5, 1.0, 'QQ Plot Hardness')"
      ]
     },
     "execution_count": 35,
     "metadata": {},
     "output_type": "execute_result"
    },
    {
     "data": {
      "image/png": "[encoded data removed]",
      "text/plain": [
       "<Figure size 432x288 with 1 Axes>"
      ]
     },
     "metadata": {},
     "output_type": "display_data"
    }
   ],
   "source": [
    "QQ_Plot(data[\"Hardness\"])\n",
    "plt.title(\"QQ Plot Hardness\")"
   ]
  },
  {
   "cell_type": "code",
   "execution_count": 36,
   "metadata": {},
   "outputs": [
    {
     "data": {
      "text/plain": [
       "Text(0.5, 1.0, 'Histogram data Hardness')"
      ]
     },
     "execution_count": 36,
     "metadata": {},
     "output_type": "execute_result"
    },
    {
     "data": {
      "image/png": "[encoded data removed]",
      "text/plain": [
       "<Figure size 432x288 with 1 Axes>"
      ]
     },
     "metadata": {},
     "output_type": "display_data"
    }
   ],
   "source": [
    "sns.histplot(data=data, x=\"Hardness\", kde=True)\n",
    "plt.title(\"Histogram data Hardness\")"
   ]
  },
  {
   "cell_type": "markdown",
   "metadata": {},
   "source": [
    "Dari kedua grafik diatas, data pH terlihat data bisa jadi tidak berdistribusi normal. Hal ini terlihat pada ujung kiri dan ujung kanan QQ Plot yang menjauh dari garis."
   ]
  },
  {
   "cell_type": "markdown",
   "metadata": {},
   "source": [
    "Pada bagian selanjutnya, data akan diuji menggunakan pendekatan statistik."
   ]
  },
  {
   "cell_type": "code",
   "execution_count": 37,
   "metadata": {},
   "outputs": [
    {
     "name": "stdout",
     "output_type": "stream",
     "text": [
      "p = 0.00013442428699593753\n",
      "Data tidak berdistribusi normal\n"
     ]
    }
   ],
   "source": [
    "_, p = scipy.stats.normaltest(data[\"Hardness\"])\n",
    "print(f\"p = {p}\")\n",
    "\n",
    "if p < alpha:\n",
    "  print(\"Data tidak berdistribusi normal\")\n",
    "else:\n",
    "  print(\"Data berdistribusi normal\")"
   ]
  },
  {
   "cell_type": "markdown",
   "metadata": {},
   "source": [
    "Berdasarkan pengujian statistik, terlihat bahwa data tidak berdistribusi normal. Hal ini dikarenakan nilai $p < 0.05$ sehingga hipotesis $H_0$ dapat ditolak.\n",
    "\n",
    "Kesimpulan dari pengujian ini adalah data Hardness bukan merupakan data yang berdistribusi normal"
   ]
  },
  {
   "cell_type": "markdown",
   "metadata": {},
   "source": [
    "### Data Solids"
   ]
  },
  {
   "cell_type": "markdown",
   "metadata": {},
   "source": [
    "Pada bagian ini, akan dicoba untuk melakukan test normal pada data Solids. Berikut ini adalah histogram dan juga QQ plot dari data Solids."
   ]
  },
  {
   "cell_type": "code",
   "execution_count": 38,
   "metadata": {},
   "outputs": [
    {
     "data": {
      "text/plain": [
       "Text(0.5, 1.0, 'QQ Plot Solids')"
      ]
     },
     "execution_count": 38,
     "metadata": {},
     "output_type": "execute_result"
    },
    {
     "data": {
      "image/png": "[encoded data removed]",
      "text/plain": [
       "<Figure size 432x288 with 1 Axes>"
      ]
     },
     "metadata": {},
     "output_type": "display_data"
    }
   ],
   "source": [
    "QQ_Plot(data[\"Solids\"])\n",
    "plt.title(\"QQ Plot Solids\")"
   ]
  },
  {
   "cell_type": "code",
   "execution_count": 39,
   "metadata": {},
   "outputs": [
    {
     "data": {
      "text/plain": [
       "Text(0.5, 1.0, 'Histogram data Solids')"
      ]
     },
     "execution_count": 39,
     "metadata": {},
     "output_type": "execute_result"
    },
    {
     "data": {
      "image/png": "[encoded data removed]",
      "text/plain": [
       "<Figure size 432x288 with 1 Axes>"
      ]
     },
     "metadata": {},
     "output_type": "display_data"
    }
   ],
   "source": [
    "sns.histplot(data=data, x=\"Solids\", kde=True)\n",
    "plt.title(\"Histogram data Solids\")"
   ]
  },
  {
   "cell_type": "markdown",
   "metadata": {},
   "source": [
    "Dari kedua grafik diatas, data pH terlihat data bisa jadi tidak berdistribusi normal. Hal ini terlihat cukup banyak titik yang  tidak berada pada garis."
   ]
  },
  {
   "cell_type": "markdown",
   "metadata": {},
   "source": [
    "Pada bagian selanjutnya, data akan diuji menggunakan pendekatan statistik."
   ]
  },
  {
   "cell_type": "code",
   "execution_count": 40,
   "metadata": {},
   "outputs": [
    {
     "name": "stdout",
     "output_type": "stream",
     "text": [
      "p = 2.0796613688739523e-24\n",
      "Data tidak berdistribusi normal\n"
     ]
    }
   ],
   "source": [
    "_, p = scipy.stats.normaltest(data[\"Solids\"])\n",
    "print(f\"p = {p}\")\n",
    "\n",
    "if p < alpha:\n",
    "  print(\"Data tidak berdistribusi normal\")\n",
    "else:\n",
    "  print(\"Data berdistribusi normal\")"
   ]
  },
  {
   "cell_type": "markdown",
   "metadata": {},
   "source": [
    "Berdasarkan pengujian statistik, terlihat bahwa data tidak berdistribusi normal. Hal ini dikarenakan nilai $p < 0.05$ sehingga hipotesis $H_0$ dapat ditolak.\n",
    "\n",
    "Kesimpulan dari pengujian ini adalah data Solids bukan merupakan data yang berdistribusi normal"
   ]
  },
  {
   "cell_type": "markdown",
   "metadata": {},
   "source": [
    "### Data Chloramines"
   ]
  },
  {
   "cell_type": "markdown",
   "metadata": {},
   "source": [
    "Pada bagian ini, akan dicoba untuk melakukan test normal pada data Chloramines. Berikut ini adalah histogram dan juga QQ plot dari data Chloramines."
   ]
  },
  {
   "cell_type": "code",
   "execution_count": 41,
   "metadata": {},
   "outputs": [
    {
     "data": {
      "text/plain": [
       "Text(0.5, 1.0, 'QQ Plot Chloramines')"
      ]
     },
     "execution_count": 41,
     "metadata": {},
     "output_type": "execute_result"
    },
    {
     "data": {
      "image/png": "[encoded data removed]",
      "text/plain": [
       "<Figure size 432x288 with 1 Axes>"
      ]
     },
     "metadata": {},
     "output_type": "display_data"
    }
   ],
   "source": [
    "QQ_Plot(data[\"Chloramines\"])\n",
    "plt.title(\"QQ Plot Chloramines\")"
   ]
  },
  {
   "cell_type": "code",
   "execution_count": 42,
   "metadata": {},
   "outputs": [
    {
     "data": {
      "text/plain": [
       "Text(0.5, 1.0, 'Histogram data Chloramines')"
      ]
     },
     "execution_count": 42,
     "metadata": {},
     "output_type": "execute_result"
    },
    {
     "data": {
      "image/png": "[encoded data removed]",
      "text/plain": [
       "<Figure size 432x288 with 1 Axes>"
      ]
     },
     "metadata": {},
     "output_type": "display_data"
    }
   ],
   "source": [
    "sns.histplot(data=data, x=\"Chloramines\", kde=True)\n",
    "plt.title(\"Histogram data Chloramines\")"
   ]
  },
  {
   "cell_type": "markdown",
   "metadata": {},
   "source": [
    "Dari kedua grafik diatas, data Chloramines terlihat data bisa jadi tidak berdistribusi normal. Hal ini terlihat cukup banyak titik yang  tidak berada pada garis."
   ]
  },
  {
   "cell_type": "markdown",
   "metadata": {},
   "source": [
    "Pada bagian selanjutnya, data akan diuji menggunakan pendekatan statistik."
   ]
  },
  {
   "cell_type": "code",
   "execution_count": 43,
   "metadata": {},
   "outputs": [
    {
     "name": "stdout",
     "output_type": "stream",
     "text": [
      "p = 0.0002504831654753917\n",
      "Data tidak berdistribusi normal\n"
     ]
    }
   ],
   "source": [
    "_, p = scipy.stats.normaltest(data[\"Chloramines\"])\n",
    "print(f\"p = {p}\")\n",
    "\n",
    "if p < alpha:\n",
    "  print(\"Data tidak berdistribusi normal\")\n",
    "else:\n",
    "  print(\"Data berdistribusi normal\")"
   ]
  },
  {
   "cell_type": "markdown",
   "metadata": {},
   "source": [
    "Berdasarkan pengujian statistik, terlihat bahwa data tidak berdistribusi normal. Hal ini dikarenakan nilai $p < 0.05$ sehingga hipotesis $H_0$ dapat ditolak.\n",
    "\n",
    "Kesimpulan dari pengujian ini adalah data Chloramines bukan merupakan data yang berdistribusi normal"
   ]
  },
  {
   "cell_type": "markdown",
   "metadata": {},
   "source": [
    "### Data Sulfate"
   ]
  },
  {
   "cell_type": "markdown",
   "metadata": {},
   "source": [
    "Pada bagian ini, akan dicoba untuk melakukan test normal pada data Sulfate. Berikut ini adalah histogram dan juga QQ plot dari data Sulfate."
   ]
  },
  {
   "cell_type": "code",
   "execution_count": 44,
   "metadata": {},
   "outputs": [
    {
     "data": {
      "text/plain": [
       "Text(0.5, 1.0, 'QQ Plot Sulfate')"
      ]
     },
     "execution_count": 44,
     "metadata": {},
     "output_type": "execute_result"
    },
    {
     "data": {
      "image/png": "[encoded data removed]",
      "text/plain": [
       "<Figure size 432x288 with 1 Axes>"
      ]
     },
     "metadata": {},
     "output_type": "display_data"
    }
   ],
   "source": [
    "QQ_Plot(data[\"Sulfate\"])\n",
    "plt.title(\"QQ Plot Sulfate\")"
   ]
  },
  {
   "cell_type": "code",
   "execution_count": 45,
   "metadata": {},
   "outputs": [
    {
     "data": {
      "text/plain": [
       "Text(0.5, 1.0, 'Histogram data Sulfate')"
      ]
     },
     "execution_count": 45,
     "metadata": {},
     "output_type": "execute_result"
    },
    {
     "data": {
      "image/png": "[encoded data removed]",
      "text/plain": [
       "<Figure size 432x288 with 1 Axes>"
      ]
     },
     "metadata": {},
     "output_type": "display_data"
    }
   ],
   "source": [
    "sns.histplot(data=data, x=\"Sulfate\", kde=True)\n",
    "plt.title(\"Histogram data Sulfate\")"
   ]
  },
  {
   "cell_type": "markdown",
   "metadata": {},
   "source": [
    "Dari kedua grafik diatas, data Chloramines terlihat data bisa jadi tidak berdistribusi normal. Hal ini terlihat data miring ke sumbu x negatif pada histogram dan pada ujung-ujung plot QQ menjauh terhadap garis."
   ]
  },
  {
   "cell_type": "markdown",
   "metadata": {},
   "source": [
    "Pada bagian selanjutnya, data akan diuji menggunakan pendekatan statistik."
   ]
  },
  {
   "cell_type": "code",
   "execution_count": 46,
   "metadata": {},
   "outputs": [
    {
     "name": "stdout",
     "output_type": "stream",
     "text": [
      "p = 4.4255936678013136e-07\n",
      "Data tidak berdistribusi normal\n"
     ]
    }
   ],
   "source": [
    "_, p = scipy.stats.normaltest(data[\"Sulfate\"])\n",
    "print(f\"p = {p}\")\n",
    "\n",
    "if p < alpha:\n",
    "  print(\"Data tidak berdistribusi normal\")\n",
    "else:\n",
    "  print(\"Data berdistribusi normal\")"
   ]
  },
  {
   "cell_type": "markdown",
   "metadata": {},
   "source": [
    "Berdasarkan pengujian statistik, terlihat bahwa data tidak berdistribusi normal. Hal ini dikarenakan nilai $p < 0.05$ sehingga hipotesis $H_0$ dapat ditolak.\n",
    "\n",
    "Kesimpulan dari pengujian ini adalah data Sulfate bukan merupakan data yang berdistribusi normal"
   ]
  },
  {
   "cell_type": "markdown",
   "metadata": {},
   "source": [
    "### Data Conductivity"
   ]
  },
  {
   "cell_type": "markdown",
   "metadata": {},
   "source": [
    "Pada bagian ini, akan dicoba untuk melakukan test normal pada data Conductivity. Berikut ini adalah histogram dan juga QQ plot dari data Conductivity."
   ]
  },
  {
   "cell_type": "code",
   "execution_count": 47,
   "metadata": {},
   "outputs": [
    {
     "data": {
      "text/plain": [
       "Text(0.5, 1.0, 'QQ Plot Conductivity')"
      ]
     },
     "execution_count": 47,
     "metadata": {},
     "output_type": "execute_result"
    },
    {
     "data": {
      "image/png": "[encoded data removed]",
      "text/plain": [
       "<Figure size 432x288 with 1 Axes>"
      ]
     },
     "metadata": {},
     "output_type": "display_data"
    }
   ],
   "source": [
    "QQ_Plot(data[\"Conductivity\"])\n",
    "plt.title(\"QQ Plot Conductivity\")"
   ]
  },
  {
   "cell_type": "code",
   "execution_count": 48,
   "metadata": {},
   "outputs": [
    {
     "data": {
      "text/plain": [
       "Text(0.5, 1.0, 'Histogram data Conductivity')"
      ]
     },
     "execution_count": 48,
     "metadata": {},
     "output_type": "execute_result"
    },
    {
     "data": {
      "image/png": "[encoded data removed]",
      "text/plain": [
       "<Figure size 432x288 with 1 Axes>"
      ]
     },
     "metadata": {},
     "output_type": "display_data"
    }
   ],
   "source": [
    "sns.histplot(data=data, x=\"Conductivity\", kde=True)\n",
    "plt.title(\"Histogram data Conductivity\")"
   ]
  },
  {
   "cell_type": "markdown",
   "metadata": {},
   "source": [
    "Dari kedua grafik diatas, data Chloramines terlihat data bisa jadi tidak berdistribusi normal. Hal ini terlihat data miring ke sumbu x positif pada histogram dan pada ujung-ujung plot QQ menjauh terhadap garis."
   ]
  },
  {
   "cell_type": "markdown",
   "metadata": {},
   "source": [
    "Pada bagian selanjutnya, data akan diuji menggunakan pendekatan statistik."
   ]
  },
  {
   "cell_type": "code",
   "execution_count": 49,
   "metadata": {},
   "outputs": [
    {
     "name": "stdout",
     "output_type": "stream",
     "text": [
      "p = 4.3901807828784666e-07\n",
      "Data tidak berdistribusi normal\n"
     ]
    }
   ],
   "source": [
    "_, p = scipy.stats.normaltest(data[\"Conductivity\"])\n",
    "print(f\"p = {p}\")\n",
    "\n",
    "if p < alpha:\n",
    "  print(\"Data tidak berdistribusi normal\")\n",
    "else:\n",
    "  print(\"Data berdistribusi normal\")"
   ]
  },
  {
   "cell_type": "markdown",
   "metadata": {},
   "source": [
    "Berdasarkan pengujian statistik, terlihat bahwa data tidak berdistribusi normal. Hal ini dikarenakan nilai $p < 0.05$ sehingga hipotesis $H_0$ dapat ditolak.\n",
    "\n",
    "Kesimpulan dari pengujian ini adalah data Conductivity bukan merupakan data yang berdistribusi normal"
   ]
  },
  {
   "cell_type": "markdown",
   "metadata": {},
   "source": [
    "### Data OrganicCarbon"
   ]
  },
  {
   "cell_type": "markdown",
   "metadata": {},
   "source": [
    "Pada bagian ini, akan dicoba untuk melakukan test normal pada data OrganicCarbon. Berikut ini adalah histogram dan juga QQ plot dari data OrganicCarbon."
   ]
  },
  {
   "cell_type": "code",
   "execution_count": 50,
   "metadata": {},
   "outputs": [
    {
     "data": {
      "text/plain": [
       "Text(0.5, 1.0, 'QQ Plot OrganicCarbon')"
      ]
     },
     "execution_count": 50,
     "metadata": {},
     "output_type": "execute_result"
    },
    {
     "data": {
      "image/png": "[encoded data removed]",
      "text/plain": [
       "<Figure size 432x288 with 1 Axes>"
      ]
     },
     "metadata": {},
     "output_type": "display_data"
    }
   ],
   "source": [
    "QQ_Plot(data[\"OrganicCarbon\"])\n",
    "plt.title(\"QQ Plot OrganicCarbon\")"
   ]
  },
  {
   "cell_type": "code",
   "execution_count": 51,
   "metadata": {},
   "outputs": [
    {
     "data": {
      "text/plain": [
       "Text(0.5, 1.0, 'Histogram data OrganicCarbon')"
      ]
     },
     "execution_count": 51,
     "metadata": {},
     "output_type": "execute_result"
    },
    {
     "data": {
      "image/png": "[encoded data removed]",
      "text/plain": [
       "<Figure size 432x288 with 1 Axes>"
      ]
     },
     "metadata": {},
     "output_type": "display_data"
    }
   ],
   "source": [
    "sns.histplot(data=data, x=\"OrganicCarbon\", kde=True)\n",
    "plt.title(\"Histogram data OrganicCarbon\")"
   ]
  },
  {
   "cell_type": "markdown",
   "metadata": {},
   "source": [
    "Dari kedua grafik diatas, data OrganicCarbon terlihat mendekati bentuk normal. Hal ini dapat terlihat bahwa pada QQ plot, sebagian besar titik berada pada garis. Oleh karena itu, dapat disimpulkan bahwa pH merupakan data yang berkemungkinan berdistribusi normal."
   ]
  },
  {
   "cell_type": "markdown",
   "metadata": {},
   "source": [
    "Pada bagian selanjutnya, data akan diuji menggunakan pendekatan statistik."
   ]
  },
  {
   "cell_type": "code",
   "execution_count": 52,
   "metadata": {},
   "outputs": [
    {
     "name": "stdout",
     "output_type": "stream",
     "text": [
      "p = 0.8825496581408284\n",
      "Data berdistribusi normal\n"
     ]
    }
   ],
   "source": [
    "_, p = scipy.stats.normaltest(data[\"OrganicCarbon\"])\n",
    "print(f\"p = {p}\")\n",
    "\n",
    "if p < alpha:\n",
    "  print(\"Data tidak berdistribusi normal\")\n",
    "else:\n",
    "  print(\"Data berdistribusi normal\")"
   ]
  },
  {
   "cell_type": "markdown",
   "metadata": {},
   "source": [
    "Berdasarkan pengujian statistik, terlihat bahwa berdistribusi normal. Hal ini ditunjukan bahwa nilai $p > 0.05$. Oleh karena itu, hipotesis $H_0$ tidak dapat ditolak.\n",
    "\n",
    "Kesimpulan dari pengujian ini adalah data OrganicCarbon merupakan data yang berdistribusi normal"
   ]
  },
  {
   "cell_type": "markdown",
   "metadata": {},
   "source": [
    "### Data Trihalomethanes"
   ]
  },
  {
   "cell_type": "markdown",
   "metadata": {},
   "source": [
    "Pada bagian ini, akan dicoba untuk melakukan test normal pada data Trihalomethanes. Berikut ini adalah histogram dan juga QQ plot dari data Trihalomethanes."
   ]
  },
  {
   "cell_type": "code",
   "execution_count": 53,
   "metadata": {},
   "outputs": [
    {
     "data": {
      "text/plain": [
       "Text(0.5, 1.0, 'QQ Plot pH')"
      ]
     },
     "execution_count": 53,
     "metadata": {},
     "output_type": "execute_result"
    },
    {
     "data": {
      "image/png": "[encoded data removed]",
      "text/plain": [
       "<Figure size 432x288 with 1 Axes>"
      ]
     },
     "metadata": {},
     "output_type": "display_data"
    }
   ],
   "source": [
    "QQ_Plot(data[\"Trihalomethanes\"])\n",
    "plt.title(\"QQ Plot pH\")"
   ]
  },
  {
   "cell_type": "code",
   "execution_count": 54,
   "metadata": {},
   "outputs": [
    {
     "data": {
      "text/plain": [
       "Text(0.5, 1.0, 'Histogram data Trihalomethanes')"
      ]
     },
     "execution_count": 54,
     "metadata": {},
     "output_type": "execute_result"
    },
    {
     "data": {
      "image/png": "[encoded data removed]",
      "text/plain": [
       "<Figure size 432x288 with 1 Axes>"
      ]
     },
     "metadata": {},
     "output_type": "display_data"
    }
   ],
   "source": [
    "sns.histplot(data=data, x=\"Trihalomethanes\", kde=True)\n",
    "plt.title(\"Histogram data Trihalomethanes\")"
   ]
  },
  {
   "cell_type": "markdown",
   "metadata": {},
   "source": [
    "Dari kedua grafik diatas, data Trihalomethanes terlihat mendekati bentuk normal. Hal ini dapat terlihat bahwa pada QQ plot, sebagian besar titik berada pada garis. Oleh karena itu, dapat disimpulkan bahwa Trihalomethanes merupakan data yang berkemungkinan berdistribusi normal."
   ]
  },
  {
   "cell_type": "markdown",
   "metadata": {},
   "source": [
    "Pada bagian selanjutnya, data akan diuji menggunakan pendekatan statistik."
   ]
  },
  {
   "cell_type": "code",
   "execution_count": 55,
   "metadata": {},
   "outputs": [
    {
     "name": "stdout",
     "output_type": "stream",
     "text": [
      "p = 0.1043598441875204\n",
      "Data berdistribusi normal\n"
     ]
    }
   ],
   "source": [
    "_, p = scipy.stats.normaltest(data[\"Trihalomethanes\"])\n",
    "print(f\"p = {p}\")\n",
    "\n",
    "if p < alpha:\n",
    "  print(\"Data tidak berdistribusi normal\")\n",
    "else:\n",
    "  print(\"Data berdistribusi normal\")"
   ]
  },
  {
   "cell_type": "markdown",
   "metadata": {},
   "source": [
    "Berdasarkan pengujian statistik, terlihat bahwa berdistribusi normal. Hal ini ditunjukan bahwa nilai $p > 0.05$. Oleh karena itu, hipotesis $H_0$ tidak dapat ditolak.\n",
    "\n",
    "Kesimpulan dari pengujian ini adalah data Trihalomethanes merupakan data yang berdistribusi normal"
   ]
  },
  {
   "cell_type": "markdown",
   "metadata": {},
   "source": [
    "### Data Turbidity"
   ]
  },
  {
   "cell_type": "markdown",
   "metadata": {},
   "source": [
    "Pada bagian ini, akan dicoba untuk melakukan test normal pada data Turbidity. Berikut ini adalah histogram dan juga QQ plot dari data Turbidity."
   ]
  },
  {
   "cell_type": "code",
   "execution_count": 56,
   "metadata": {},
   "outputs": [
    {
     "data": {
      "text/plain": [
       "Text(0.5, 1.0, 'QQ Plot Turbidity')"
      ]
     },
     "execution_count": 56,
     "metadata": {},
     "output_type": "execute_result"
    },
    {
     "data": {
      "image/png": "[encoded data removed]",
      "text/plain": [
       "<Figure size 432x288 with 1 Axes>"
      ]
     },
     "metadata": {},
     "output_type": "display_data"
    }
   ],
   "source": [
    "QQ_Plot(data[\"Turbidity\"])\n",
    "plt.title(\"QQ Plot Turbidity\")"
   ]
  },
  {
   "cell_type": "code",
   "execution_count": 57,
   "metadata": {},
   "outputs": [
    {
     "data": {
      "text/plain": [
       "Text(0.5, 1.0, 'Histogram data Turbidity')"
      ]
     },
     "execution_count": 57,
     "metadata": {},
     "output_type": "execute_result"
    },
    {
     "data": {
      "image/png": "[encoded data removed]",
      "text/plain": [
       "<Figure size 432x288 with 1 Axes>"
      ]
     },
     "metadata": {},
     "output_type": "display_data"
    }
   ],
   "source": [
    "sns.histplot(data=data, x=\"Turbidity\", kde=True)\n",
    "plt.title(\"Histogram data Turbidity\")"
   ]
  },
  {
   "cell_type": "markdown",
   "metadata": {},
   "source": [
    "Dari kedua grafik diatas, data Turbidity terlihat mendekati bentuk normal. Hal ini dapat terlihat bahwa pada QQ plot, sebagian besar titik berada pada garis. Oleh karena itu, dapat disimpulkan bahwa Turbidity merupakan data yang berkemungkinan berdistribusi normal."
   ]
  },
  {
   "cell_type": "markdown",
   "metadata": {},
   "source": [
    "Pada bagian selanjutnya, data akan diuji menggunakan pendekatan statistik."
   ]
  },
  {
   "cell_type": "code",
   "execution_count": 58,
   "metadata": {},
   "outputs": [
    {
     "name": "stdout",
     "output_type": "stream",
     "text": [
      "p = 0.7694717369961169\n",
      "Data berdistribusi normal\n"
     ]
    }
   ],
   "source": [
    "_, p = scipy.stats.normaltest(data[\"Turbidity\"])\n",
    "print(f\"p = {p}\")\n",
    "\n",
    "if p < alpha:\n",
    "  print(\"Data tidak berdistribusi normal\")\n",
    "else:\n",
    "  print(\"Data berdistribusi normal\")"
   ]
  },
  {
   "cell_type": "markdown",
   "metadata": {},
   "source": [
    "Berdasarkan pengujian statistik, terlihat bahwa berdistribusi normal. Hal ini ditunjukan bahwa nilai $p > 0.05$. Oleh karena itu, hipotesis $H_0$ tidak dapat ditolak.\n",
    "\n",
    "Kesimpulan dari pengujian ini adalah data Turbidity merupakan data yang berdistribusi normal"
   ]
  },
  {
   "cell_type": "markdown",
   "metadata": {},
   "source": [
    "## Nomor 4: Uji Hipotesis 1 Sampel"
   ]
  },
  {
   "cell_type": "markdown",
   "metadata": {},
   "source": [
    "Pada nomor ini, akan dilakukan uji sampel terhadap beberapa variabel."
   ]
  },
  {
   "cell_type": "markdown",
   "metadata": {},
   "source": [
    "### Soal 4.a."
   ]
  },
  {
   "cell_type": "markdown",
   "metadata": {},
   "source": [
    "Akan diuji hipotesis apakah populasi memiliki nilai rata-rata pH diatas 7.\n",
    "Berikut ini adalah boxplot dari data pH."
   ]
  },
  {
   "cell_type": "code",
   "execution_count": 59,
   "metadata": {},
   "outputs": [
    {
     "data": {
      "text/plain": [
       "<AxesSubplot:xlabel='pH'>"
      ]
     },
     "execution_count": 59,
     "metadata": {},
     "output_type": "execute_result"
    },
    {
     "data": {
      "image/png": "[encoded data removed]",
      "text/plain": [
       "<Figure size 432x288 with 1 Axes>"
      ]
     },
     "metadata": {},
     "output_type": "display_data"
    }
   ],
   "source": [
    "sns.boxplot(data = data, x = \"pH\")"
   ]
  },
  {
   "cell_type": "markdown",
   "metadata": {},
   "source": [
    "#### Langkah 1 : Penentuan Hipotesis Nol"
   ]
  },
  {
   "cell_type": "markdown",
   "metadata": {},
   "source": [
    "Pada soal ini, ditentukan bahwa hipotesis nol ($H_0$) adalah rata-rata pH populasi bernilai 7. Oleh karena itu, diambil\n",
    "\n",
    "$$\n",
    "H_0: \\mu_{pH} = 7\n",
    "$$"
   ]
  },
  {
   "cell_type": "markdown",
   "metadata": {},
   "source": [
    "#### Langkah 2: Penentuan Hipotesis Alternatif"
   ]
  },
  {
   "cell_type": "markdown",
   "metadata": {},
   "source": [
    "Diambil hipotesis alternatif dari permasalahan ini adalah rata-rata pH populasi bernilai lebih dari 7. Oleh karena itu, diambil\n",
    "\n",
    "$$\n",
    "H_1: \\mu_{pH} > 7\n",
    "$$"
   ]
  },
  {
   "cell_type": "markdown",
   "metadata": {},
   "source": [
    "#### Langkah 3: Penentuan Nilai Signifikansi dan Daerah kritis\n",
    "Diambil nilai signifikansi ($\\alpha$) bernilai 5%. Akan dihitung nilai daerah kritisnya. Dikarenakan dilakukan proses pengujian pada rata-rata, maka digunakanlah distibusi normal."
   ]
  },
  {
   "cell_type": "code",
   "execution_count": 60,
   "metadata": {},
   "outputs": [
    {
     "data": {
      "text/plain": [
       "1.6456124504017113"
      ]
     },
     "execution_count": 60,
     "metadata": {},
     "output_type": "execute_result"
    }
   ],
   "source": [
    "tValue = scipy.stats.t.ppf(1-0.05, data[\"pH\"].size - 1)\n",
    "tValue"
   ]
  },
  {
   "cell_type": "markdown",
   "metadata": {},
   "source": [
    "Oleh karena itu, daerah kritisnya adalah\n",
    "$$\n",
    "t > 1.6456\n",
    "$$"
   ]
  },
  {
   "cell_type": "markdown",
   "metadata": {},
   "source": [
    "#### Langkah 4: Pengujian Statistik"
   ]
  },
  {
   "cell_type": "markdown",
   "metadata": {},
   "source": [
    "Akan dilakukan pengujian statistik. Akan dihitung nilai berikut\n",
    "$$\n",
    "t_0 = \\frac{\\bar{X}-\\mu_0}{s/\\sqrt{n}}\n",
    "$$"
   ]
  },
  {
   "cell_type": "markdown",
   "metadata": {},
   "source": [
    "yang dalam hal ini, $\\bar{X}$ menyatakan rata-rata sampel, $\\mu_0$ rata-rata yang sesuai dengan $H_0$, s adalah simpangan baku sampel, dan $n$ adalah jumlah sampel."
   ]
  },
  {
   "cell_type": "code",
   "execution_count": 61,
   "metadata": {},
   "outputs": [
    {
     "data": {
      "text/plain": [
       "2.485445147379887"
      ]
     },
     "execution_count": 61,
     "metadata": {},
     "output_type": "execute_result"
    }
   ],
   "source": [
    "t_0 = (np.mean(data[\"pH\"]) - 7)/(np.std(data[\"pH\"], ddof=1)/np.sqrt(data[\"pH\"].size))\n",
    "t_0"
   ]
  },
  {
   "cell_type": "markdown",
   "metadata": {},
   "source": [
    "Akan dihitung nilai $p$ dari data yang diketahui diatas"
   ]
  },
  {
   "cell_type": "code",
   "execution_count": 62,
   "metadata": {},
   "outputs": [
    {
     "data": {
      "text/plain": [
       "0.006509872359240942"
      ]
     },
     "execution_count": 62,
     "metadata": {},
     "output_type": "execute_result"
    }
   ],
   "source": [
    "p = 1-scipy.stats.t.cdf(t_0,  data[\"pH\"].size - 1)\n",
    "p"
   ]
  },
  {
   "cell_type": "markdown",
   "metadata": {},
   "source": [
    "#### Langkah 5: Pengambilan Keputusan"
   ]
  },
  {
   "cell_type": "markdown",
   "metadata": {},
   "source": [
    "Dikarenakan $p = 0.0065 < 0.05$ dan $t_0 > 1.6456$, maka hipotesisi $H_0$ tertolak. Oleh karena itu, nilai rata-rata pH lebih besar daripada 7."
   ]
  },
  {
   "cell_type": "markdown",
   "metadata": {},
   "source": [
    "### Soal 4.b."
   ]
  },
  {
   "cell_type": "markdown",
   "metadata": {},
   "source": [
    "Akan diuji hipotesis apakah populasi memiliki nilai rata-rata Hardness tidak sama dengan 205. Berikut ini adalah boxplot dari data Hardness."
   ]
  },
  {
   "cell_type": "code",
   "execution_count": 63,
   "metadata": {},
   "outputs": [
    {
     "data": {
      "text/plain": [
       "<AxesSubplot:xlabel='Hardness'>"
      ]
     },
     "execution_count": 63,
     "metadata": {},
     "output_type": "execute_result"
    },
    {
     "data": {
      "image/png": "[encoded data removed]",
      "text/plain": [
       "<Figure size 432x288 with 1 Axes>"
      ]
     },
     "metadata": {},
     "output_type": "display_data"
    }
   ],
   "source": [
    "sns.boxplot(data = data, x = \"Hardness\")"
   ]
  },
  {
   "cell_type": "markdown",
   "metadata": {},
   "source": [
    "#### Langkah 1 : Penentuan Hipotesis Nol"
   ]
  },
  {
   "cell_type": "markdown",
   "metadata": {},
   "source": [
    "Pada soal ini, ditentukan bahwa hipotesis nol ($H_0$) adalah rata-rata Hardness populasi bernilai 205. Oleh karena itu, diambil\n",
    "\n",
    "$$\n",
    "H_0: \\mu_{Hardness} = 205\n",
    "$$"
   ]
  },
  {
   "cell_type": "markdown",
   "metadata": {},
   "source": [
    "#### Langkah 2: Penentuan Hipotesis Alternatif"
   ]
  },
  {
   "cell_type": "markdown",
   "metadata": {},
   "source": [
    "Diambil hipotesis alternatif dari permasalahan ini adalah rata-rata Hardness populasi bernilai tidak sama dengan 205. Oleh karena itu, diambil\n",
    "\n",
    "$$\n",
    "H_1: \\mu_{Hardness} \\neq 205\n",
    "$$"
   ]
  },
  {
   "cell_type": "markdown",
   "metadata": {},
   "source": [
    "#### Langkah 3: Penentuan Nilai Signifikansi dan Daerah kritis\n",
    "Diambil nilai signifikansi ($\\alpha$) bernilai 5%. Akan dihitung nilai daerah kritisnya. Dikarenakan dilakukan proses pengujian pada rata-rata, maka digunakanlah distibusi normal."
   ]
  },
  {
   "cell_type": "code",
   "execution_count": 64,
   "metadata": {},
   "outputs": [
    {
     "data": {
      "text/plain": [
       "-1.9611455060885266"
      ]
     },
     "execution_count": 64,
     "metadata": {},
     "output_type": "execute_result"
    }
   ],
   "source": [
    "t = scipy.stats.t\n",
    "criticalVal = t.ppf(0.05/2, data[\"Hardness\"].size - 1)\n",
    "criticalVal"
   ]
  },
  {
   "cell_type": "markdown",
   "metadata": {},
   "source": [
    "Oleh karena itu, daerah kritisnya adalah\n",
    "$$\n",
    "t > 1.961 \\lor t < -1.961\n",
    "$$"
   ]
  },
  {
   "cell_type": "markdown",
   "metadata": {},
   "source": [
    "#### Langkah 4: Pengujian Statistik"
   ]
  },
  {
   "cell_type": "markdown",
   "metadata": {},
   "source": [
    "Akan dilakukan pengujian statistik. Akan dihitung nilai berikut\n",
    "$$\n",
    "t_0 = \\frac{\\bar{X}-\\mu_0}{s/\\sqrt{n}}\n",
    "$$"
   ]
  },
  {
   "cell_type": "markdown",
   "metadata": {},
   "source": [
    "yang dalam hal ini, $\\bar{X}$ menyatakan rata-rata sampel, $\\mu_0$ rata-rata yang sesuai dengan $H_0$, s adalah simpangan baku sampel, dan $n$ adalah jumlah sampel."
   ]
  },
  {
   "cell_type": "code",
   "execution_count": 65,
   "metadata": {},
   "outputs": [
    {
     "data": {
      "text/plain": [
       "-12.403137170010732"
      ]
     },
     "execution_count": 65,
     "metadata": {},
     "output_type": "execute_result"
    }
   ],
   "source": [
    "t_0 = (np.mean(data[\"Hardness\"]) - 205)/(np.std(data[\"Hardness\"], ddof=1)/np.sqrt(data[\"Hardness\"].size))\n",
    "t_0"
   ]
  },
  {
   "cell_type": "markdown",
   "metadata": {},
   "source": [
    "Akan dihitung nilai $p$ dari data yang diketahui diatas"
   ]
  },
  {
   "cell_type": "code",
   "execution_count": 66,
   "metadata": {},
   "outputs": [
    {
     "data": {
      "text/plain": [
       "2.149590521597912e-34"
      ]
     },
     "execution_count": 66,
     "metadata": {},
     "output_type": "execute_result"
    }
   ],
   "source": [
    "p = t.cdf(t_0, data[\"Hardness\"].size - 1)\n",
    "p"
   ]
  },
  {
   "cell_type": "markdown",
   "metadata": {},
   "source": [
    "#### Langkah 5: Pengambilan Keputusan"
   ]
  },
  {
   "cell_type": "markdown",
   "metadata": {},
   "source": [
    "Dikarenakan $p < 0.05$ dan $t_0 < -1.961$, maka hipotesis $H_0$ tertolak. Oleh karena itu, nilai rata-rata hardness tidak sama dengan 205."
   ]
  },
  {
   "cell_type": "markdown",
   "metadata": {},
   "source": [
    "### Soal 4.c."
   ]
  },
  {
   "cell_type": "markdown",
   "metadata": {},
   "source": [
    "Akan diuji hipotesis apakah rata-rata populasi dengan sampel 100 baris pertama kolom Solid bukan 21900. Berikut ini adalah boxplot dari 100 baris pertama kolom Solids."
   ]
  },
  {
   "cell_type": "code",
   "execution_count": 67,
   "metadata": {},
   "outputs": [
    {
     "data": {
      "text/plain": [
       "<AxesSubplot:xlabel='Solids'>"
      ]
     },
     "execution_count": 67,
     "metadata": {},
     "output_type": "execute_result"
    },
    {
     "data": {
      "image/png": "[encoded data removed]",
      "text/plain": [
       "<Figure size 432x288 with 1 Axes>"
      ]
     },
     "metadata": {},
     "output_type": "display_data"
    }
   ],
   "source": [
    "sns.boxplot(data = data[:100], x = \"Solids\")"
   ]
  },
  {
   "cell_type": "markdown",
   "metadata": {},
   "source": [
    " Berikut ini adalah pengambilan 100 data pertama. "
   ]
  },
  {
   "cell_type": "code",
   "execution_count": 68,
   "metadata": {},
   "outputs": [
    {
     "name": "stdout",
     "output_type": "stream",
     "text": [
      "<class 'pandas.core.series.Series'>\n",
      "RangeIndex: 100 entries, 0 to 99\n",
      "Series name: Solids\n",
      "Non-Null Count  Dtype  \n",
      "--------------  -----  \n",
      "100 non-null    float64\n",
      "dtypes: float64(1)\n",
      "memory usage: 928.0 bytes\n"
     ]
    }
   ],
   "source": [
    "solid100 = data[\"Solids\"].iloc[:100]\n",
    "solid100.info()"
   ]
  },
  {
   "cell_type": "code",
   "execution_count": 69,
   "metadata": {},
   "outputs": [
    {
     "data": {
      "text/plain": [
       "0    22018.417441\n",
       "1    17978.986339\n",
       "2    28748.687739\n",
       "3    28749.716544\n",
       "4    13672.091764\n",
       "Name: Solids, dtype: float64"
      ]
     },
     "execution_count": 69,
     "metadata": {},
     "output_type": "execute_result"
    }
   ],
   "source": [
    "solid100.head()"
   ]
  },
  {
   "cell_type": "markdown",
   "metadata": {},
   "source": [
    "#### Langkah 1 : Penentuan Hipotesis Nol"
   ]
  },
  {
   "cell_type": "markdown",
   "metadata": {},
   "source": [
    "Pada soal ini, ditentukan bahwa hipotesis nol ($H_0$) adalah rata-rata Hardness populasi bernilai 205. Oleh karena itu, diambil\n",
    "\n",
    "$$\n",
    "H_0: \\mu_{solid} = 21900\n",
    "$$"
   ]
  },
  {
   "cell_type": "markdown",
   "metadata": {},
   "source": [
    "#### Langkah 2: Penentuan Hipotesis Alternatif"
   ]
  },
  {
   "cell_type": "markdown",
   "metadata": {},
   "source": [
    "Diambil hipotesis alternatif dari permasalahan ini adalah rata-rata Hardness populasi bernilai tidak sama dengan 205. Oleh karena itu, diambil\n",
    "\n",
    "$$\n",
    "H_1: \\mu_{Hardness} \\neq 21900\n",
    "$$"
   ]
  },
  {
   "cell_type": "markdown",
   "metadata": {},
   "source": [
    "#### Langkah 3: Penentuan Nilai Signifikansi dan Daerah kritis\n",
    "Diambil nilai signifikansi ($\\alpha$) bernilai 5%. Akan dihitung nilai daerah kritisnya. Dikarenakan dilakukan proses pengujian pada rata-rata, maka digunakanlah distibusi normal."
   ]
  },
  {
   "cell_type": "code",
   "execution_count": 70,
   "metadata": {},
   "outputs": [
    {
     "data": {
      "text/plain": [
       "1.9842169515086827"
      ]
     },
     "execution_count": 70,
     "metadata": {},
     "output_type": "execute_result"
    }
   ],
   "source": [
    "t = scipy.stats.t\n",
    "criticalVal = t.ppf(1-0.05/2, solid100.size - 1)\n",
    "criticalVal"
   ]
  },
  {
   "cell_type": "markdown",
   "metadata": {},
   "source": [
    "Oleh karena itu, daerah kritisnya adalah\n",
    "$$\n",
    "t > 1.984 \\lor t < -1.984\n",
    "$$"
   ]
  },
  {
   "cell_type": "markdown",
   "metadata": {},
   "source": [
    "#### Langkah 4: Pengujian Statistik"
   ]
  },
  {
   "cell_type": "markdown",
   "metadata": {},
   "source": [
    "Akan dilakukan pengujian statistik. Akan dihitung nilai berikut\n",
    "$$\n",
    "t_0 = \\frac{\\bar{X}-\\mu_0}{s/\\sqrt{n}}\n",
    "$$"
   ]
  },
  {
   "cell_type": "markdown",
   "metadata": {},
   "source": [
    "yang dalam hal ini, $\\bar{X}$ menyatakan rata-rata sampel, $\\mu_0$ rata-rata yang sesuai dengan $H_0$, s adalah simpangan baku sampel, dan $n$ adalah jumlah sampel."
   ]
  },
  {
   "cell_type": "code",
   "execution_count": 71,
   "metadata": {},
   "outputs": [
    {
     "data": {
      "text/plain": [
       "0.5636797715721551"
      ]
     },
     "execution_count": 71,
     "metadata": {},
     "output_type": "execute_result"
    }
   ],
   "source": [
    "t_0 = (np.mean(solid100) - 21900)/(np.std(solid100, ddof=1)/np.sqrt(solid100.size))\n",
    "t_0"
   ]
  },
  {
   "cell_type": "markdown",
   "metadata": {},
   "source": [
    "Akan dihitung nilai $p$ dari data yang diketahui diatas"
   ]
  },
  {
   "cell_type": "code",
   "execution_count": 72,
   "metadata": {},
   "outputs": [
    {
     "data": {
      "text/plain": [
       "0.2871233567026301"
      ]
     },
     "execution_count": 72,
     "metadata": {},
     "output_type": "execute_result"
    }
   ],
   "source": [
    "p = 1-t.cdf(t_0, solid100.size - 1)\n",
    "p"
   ]
  },
  {
   "cell_type": "markdown",
   "metadata": {},
   "source": [
    "#### Langkah 5: Pengambilan Keputusan"
   ]
  },
  {
   "cell_type": "markdown",
   "metadata": {},
   "source": [
    "Dikarenakan $p > 0.05$ dan $t_0 < 1.98$, maka hipotesisi $H_0$ diterima. Oleh karena itu, nilai rata-rata populasi dari sambel 100 kolom solids adalah 21900."
   ]
  },
  {
   "cell_type": "markdown",
   "metadata": {},
   "source": [
    "### Soal 4.d."
   ]
  },
  {
   "cell_type": "markdown",
   "metadata": {},
   "source": [
    "Akan diuji proporsi nilai Conductivity yang lebih dari 450 adalah tidak sama dengan 10%. Berikut ini adalah boxplot dari data Conductivity."
   ]
  },
  {
   "cell_type": "code",
   "execution_count": 73,
   "metadata": {},
   "outputs": [
    {
     "data": {
      "text/plain": [
       "<AxesSubplot:xlabel='Conductivity'>"
      ]
     },
     "execution_count": 73,
     "metadata": {},
     "output_type": "execute_result"
    },
    {
     "data": {
      "image/png": "[encoded data removed]",
      "text/plain": [
       "<Figure size 432x288 with 1 Axes>"
      ]
     },
     "metadata": {},
     "output_type": "display_data"
    }
   ],
   "source": [
    "sns.boxplot(data = data, x = \"Conductivity\")"
   ]
  },
  {
   "cell_type": "markdown",
   "metadata": {},
   "source": [
    "#### Langkah 1 : Penentuan Hipotesis Nol"
   ]
  },
  {
   "cell_type": "markdown",
   "metadata": {},
   "source": [
    "Pada soal ini, ditentukan bahwa hipotesis nol ($H_0$) adalah proporsi nilai Conductivity yang lebih dari 450 sama dengan 10%. Oleh karena itu, diambil\n",
    "\n",
    "$$\n",
    "H_0: p_{Conductivity} = 10\\%\n",
    "$$"
   ]
  },
  {
   "cell_type": "markdown",
   "metadata": {},
   "source": [
    "#### Langkah 2: Penentuan Hipotesis Alternatif"
   ]
  },
  {
   "cell_type": "markdown",
   "metadata": {},
   "source": [
    "Diambil hipotesis alternatif dari permasalahan ini adalah proporsi nilai Conductivity yang lebih dari 450 tidak sama dengan 10%\n",
    "$$\n",
    "H_1: p_{Conductivity} \\neq 10\\%\n",
    "$$"
   ]
  },
  {
   "cell_type": "markdown",
   "metadata": {},
   "source": [
    "#### Langkah 3: Penentuan Nilai Signifikansi dan Daerah kritis\n",
    "Diambil nilai signifikansi ($\\alpha$) bernilai 5%. Akan dihitung nilai daerah kritisnya. Dikarenakan dilakukan proses pengujian pada rata-rata, maka digunakanlah distribusi normal."
   ]
  },
  {
   "cell_type": "code",
   "execution_count": 74,
   "metadata": {},
   "outputs": [
    {
     "data": {
      "text/plain": [
       "1.959963984540054"
      ]
     },
     "execution_count": 74,
     "metadata": {},
     "output_type": "execute_result"
    }
   ],
   "source": [
    "norm = scipy.stats.norm()\n",
    "criticalVal = norm.ppf(1-0.05/2)\n",
    "criticalVal"
   ]
  },
  {
   "cell_type": "markdown",
   "metadata": {},
   "source": [
    "Oleh karena itu, daerah kritisnya adalah\n",
    "$$\n",
    "z < -1.960 \\lor z > 1.960\n",
    "$$"
   ]
  },
  {
   "cell_type": "markdown",
   "metadata": {},
   "source": [
    "#### Langkah 4: Pengujian Statistik"
   ]
  },
  {
   "cell_type": "markdown",
   "metadata": {},
   "source": [
    "Akan dilakukan pengujian statistik. Perhitungan proporsi akan dilakukan dengan menggunakan pendekatan distribusi normal. Akan dicari simpangan baku dan rata-rata dari distribusi binomial.\n",
    "\n",
    "Rumus untuk mencari nilai rata-rata dan simpangan baku dari distribusi binomial adalah sebagai berikut:\n",
    "$$\n",
    "\\mu = np\n",
    "$$\n",
    "\n",
    "$$\n",
    "\\sigma = \\sqrt{npq}\n",
    "$$\n",
    "\n",
    "Selanjutnya akan dicari nilai rata-rata dan simpangan baku yang dibutuhkan dalam perhitungan."
   ]
  },
  {
   "cell_type": "code",
   "execution_count": 75,
   "metadata": {},
   "outputs": [
    {
     "name": "stdout",
     "output_type": "stream",
     "text": [
      "Nilai rata-rata = 201.0\n",
      "Nilai simpangan baku = 13.449907062875937\n"
     ]
    }
   ],
   "source": [
    "mu = data[\"Conductivity\"].shape[0] * 0.1\n",
    "sigma = np.sqrt(data[\"Conductivity\"].shape[0]*0.1*0.9)\n",
    "print(f\"Nilai rata-rata = {mu}\")\n",
    "print(f\"Nilai simpangan baku = {sigma}\")"
   ]
  },
  {
   "cell_type": "markdown",
   "metadata": {},
   "source": [
    "Selanjutnya dihitung jumlah data Conductivity yang lebih dari 450."
   ]
  },
  {
   "cell_type": "code",
   "execution_count": 76,
   "metadata": {},
   "outputs": [
    {
     "name": "stdout",
     "output_type": "stream",
     "text": [
      "Jumlah data Conductivity yang bernilai lebih dari 450: 745\n"
     ]
    }
   ],
   "source": [
    "cdv_gt_450 = data[data[\"Conductivity\"] > 450][\"Conductivity\"].size\n",
    "print(f\"Jumlah data Conductivity yang bernilai lebih dari 450: {cdv_gt_450}\")"
   ]
  },
  {
   "cell_type": "markdown",
   "metadata": {},
   "source": [
    "Berikutnya akan dihitung nilai $z$ untuk mencari distribusi normal pada data Conductivity tersebut. Rumus untuk mencari $z$ tersebut adalah sebagai berikut:\n",
    "\n",
    "$$\n",
    "z = \\frac{X - \\mu}{\\sigma}\n",
    "$$\n",
    "\n",
    "Di dalam hal ini, $X$ adalah banyaknya data Conductivity yang bernilai lebih dari 450."
   ]
  },
  {
   "cell_type": "code",
   "execution_count": 77,
   "metadata": {},
   "outputs": [
    {
     "data": {
      "text/plain": [
       "40.446376131589325"
      ]
     },
     "execution_count": 77,
     "metadata": {},
     "output_type": "execute_result"
    }
   ],
   "source": [
    "z = (cdv_gt_450 - mu)/sigma\n",
    "z"
   ]
  },
  {
   "cell_type": "markdown",
   "metadata": {},
   "source": [
    "Akan dicari nilai p untuk kasus ini."
   ]
  },
  {
   "cell_type": "code",
   "execution_count": 78,
   "metadata": {},
   "outputs": [
    {
     "data": {
      "text/plain": [
       "0.0"
      ]
     },
     "execution_count": 78,
     "metadata": {},
     "output_type": "execute_result"
    }
   ],
   "source": [
    "p = (1 - norm.cdf(z)) * 2\n",
    "p"
   ]
  },
  {
   "cell_type": "markdown",
   "metadata": {},
   "source": [
    "#### Langkah 5: Pengambilan Keputusan"
   ]
  },
  {
   "cell_type": "markdown",
   "metadata": {},
   "source": [
    "Dikarenakan $p < 0.05$ dan $z_0 > 1.960$, maka hipotesis $H_0$ ditolak. Oleh karena itu, nilai proporsi Conductivity yang lebih dari 450 tidak sama dengan 10%."
   ]
  },
  {
   "cell_type": "markdown",
   "metadata": {},
   "source": [
    "### Soal 4.e."
   ]
  },
  {
   "cell_type": "markdown",
   "metadata": {},
   "source": [
    "Akan diuji proporsi nilai Trihalomethanes yang kurang dari 40 adalah kurang dari 5%. Berikut ini adalah boxplot dari data Trihalomethanes."
   ]
  },
  {
   "cell_type": "code",
   "execution_count": 79,
   "metadata": {},
   "outputs": [
    {
     "data": {
      "text/plain": [
       "<AxesSubplot:xlabel='Trihalomethanes'>"
      ]
     },
     "execution_count": 79,
     "metadata": {},
     "output_type": "execute_result"
    },
    {
     "data": {
      "image/png": "[encoded data removed]",
      "text/plain": [
       "<Figure size 432x288 with 1 Axes>"
      ]
     },
     "metadata": {},
     "output_type": "display_data"
    }
   ],
   "source": [
    "sns.boxplot(data = data, x = \"Trihalomethanes\")"
   ]
  },
  {
   "cell_type": "markdown",
   "metadata": {},
   "source": [
    "#### Langkah 1 : Penentuan Hipotesis Nol"
   ]
  },
  {
   "cell_type": "markdown",
   "metadata": {},
   "source": [
    "Pada soal ini, ditentukan bahwa hipotesis nol ($H_0$) adalah proporsi nilai Trihalomethanes yang kurang dari 40 sama dengan 5%. Oleh karena itu, diambil\n",
    "\n",
    "$$\n",
    "H_0: p_{Trihalomethanes} = 5\\%\n",
    "$$"
   ]
  },
  {
   "cell_type": "markdown",
   "metadata": {},
   "source": [
    "#### Langkah 2: Penentuan Hipotesis Alternatif"
   ]
  },
  {
   "cell_type": "markdown",
   "metadata": {},
   "source": [
    "Diambil hipotesis alternatif dari permasalahan ini adalah proporsi nilai Trihalomethanes yang kurang dari 40 kurang dari 5%\n",
    "$$\n",
    "H_1: p_{Trihalomethanes} < 5\\%\n",
    "$$"
   ]
  },
  {
   "cell_type": "markdown",
   "metadata": {},
   "source": [
    "#### Langkah 3: Penentuan Nilai Signifikansi dan Daerah kritis\n",
    "Diambil nilai signifikansi ($\\alpha$) bernilai 5%. Akan dihitung nilai daerah kritisnya. Dikarenakan dilakukan proses pengujian pada rata-rata, maka digunakanlah distribusi normal."
   ]
  },
  {
   "cell_type": "code",
   "execution_count": 80,
   "metadata": {},
   "outputs": [
    {
     "data": {
      "text/plain": [
       "-1.6448536269514729"
      ]
     },
     "execution_count": 80,
     "metadata": {},
     "output_type": "execute_result"
    }
   ],
   "source": [
    "norm = scipy.stats.norm()\n",
    "criticalVal = norm.ppf(0.05)\n",
    "criticalVal"
   ]
  },
  {
   "cell_type": "markdown",
   "metadata": {},
   "source": [
    "Oleh karena itu, daerah kritisnya adalah\n",
    "$$\n",
    "z < -1.645\n",
    "$$"
   ]
  },
  {
   "cell_type": "markdown",
   "metadata": {},
   "source": [
    "#### Langkah 4: Pengujian Statistik"
   ]
  },
  {
   "cell_type": "markdown",
   "metadata": {},
   "source": [
    "Akan dilakukan pengujian statistik. Perhitungan proporsi akan dilakukan dengan menggunakan pendekatan distribusi normal. Akan dicari simpangan baku dan rata-rata dari distribusi binomial.\n",
    "\n",
    "Rumus untuk mencari nilai rata-rata dan simpangan baku dari distribusi binomial adalah sebagai berikut:\n",
    "$$\n",
    "\\mu = np\n",
    "$$\n",
    "\n",
    "$$\n",
    "\\sigma = \\sqrt{npq}\n",
    "$$\n",
    "\n",
    "Selanjutnya akan dicari nilai rata-rata dan simpangan baku yang dibutuhkan dalam perhitungan."
   ]
  },
  {
   "cell_type": "code",
   "execution_count": 81,
   "metadata": {},
   "outputs": [
    {
     "name": "stdout",
     "output_type": "stream",
     "text": [
      "Nilai rata-rata = 100.5\n",
      "Nilai simpangan baku = 9.771130947848361\n"
     ]
    }
   ],
   "source": [
    "mu = data[\"Trihalomethanes\"].shape[0] * 0.05\n",
    "sigma = np.sqrt(data[\"Trihalomethanes\"].shape[0]*0.05*0.95)\n",
    "print(f\"Nilai rata-rata = {mu}\")\n",
    "print(f\"Nilai simpangan baku = {sigma}\")"
   ]
  },
  {
   "cell_type": "markdown",
   "metadata": {},
   "source": [
    "Selanjutnya dihitung jumlah data Trihalomethanes yang kurang dari 40."
   ]
  },
  {
   "cell_type": "code",
   "execution_count": 82,
   "metadata": {},
   "outputs": [
    {
     "name": "stdout",
     "output_type": "stream",
     "text": [
      "Jumlah data Trihalomethanes yang bernilai kurang dari 40: 106\n"
     ]
    }
   ],
   "source": [
    "trh_lt_40 = data[data[\"Trihalomethanes\"] < 40][\"Trihalomethanes\"].size\n",
    "print(f\"Jumlah data Trihalomethanes yang bernilai kurang dari 40: {trh_lt_40}\")"
   ]
  },
  {
   "cell_type": "markdown",
   "metadata": {},
   "source": [
    "Berikutnya akan dihitung nilai $z$ untuk mencari distribusi normal pada data Trihalomethanes tersebut. Rumus untuk mencari $z$ tersebut adalah sebagai berikut:\n",
    "\n",
    "$$\n",
    "z = \\frac{X - \\mu}{\\sigma}\n",
    "$$\n",
    "\n",
    "Di dalam hal ini, $X$ adalah banyaknya data Trihalomethanes yang bernilai kurang dari 40."
   ]
  },
  {
   "cell_type": "code",
   "execution_count": 83,
   "metadata": {},
   "outputs": [
    {
     "data": {
      "text/plain": [
       "0.5628826416670959"
      ]
     },
     "execution_count": 83,
     "metadata": {},
     "output_type": "execute_result"
    }
   ],
   "source": [
    "z = (trh_lt_40 - mu)/sigma\n",
    "z"
   ]
  },
  {
   "cell_type": "markdown",
   "metadata": {},
   "source": [
    "Akan dicari nilai p untuk kasus ini."
   ]
  },
  {
   "cell_type": "code",
   "execution_count": 84,
   "metadata": {},
   "outputs": [
    {
     "data": {
      "text/plain": [
       "0.7132425995092373"
      ]
     },
     "execution_count": 84,
     "metadata": {},
     "output_type": "execute_result"
    }
   ],
   "source": [
    "p = norm.cdf(z)\n",
    "p"
   ]
  },
  {
   "cell_type": "markdown",
   "metadata": {},
   "source": [
    "#### Langkah 5: Pengambilan Keputusan"
   ]
  },
  {
   "cell_type": "markdown",
   "metadata": {},
   "source": [
    "Dikarenakan $p > 0.05$ dan $z_0 > -1.645$, maka hipotesis $H_0$ diterima. Oleh karena itu, nilai proporsi Trihalomethanes yang kurang dari 40 sama dengan 5%."
   ]
  },
  {
   "cell_type": "markdown",
   "metadata": {},
   "source": [
    "## Nomor 5: Uji Hipotesis 2 Sampel"
   ]
  },
  {
   "cell_type": "markdown",
   "metadata": {},
   "source": [
    "Pada soal ini, kami akan menguji beberapa hipotesis yang melibatkan dua dataset. "
   ]
  },
  {
   "cell_type": "markdown",
   "metadata": {},
   "source": [
    "### Soal 5.a."
   ]
  },
  {
   "cell_type": "markdown",
   "metadata": {},
   "source": [
    "Pada soal ini, akan diuji apakah rata-rata bagian awal dan bagian akhir kolom sulfate apabila dibagi menjadi 2 sama rata memiliki rata-rata yang sama.\n",
    "Sebelum itu kami membagi dataset Sulfate menjadi dua bagian sama besar, yaitu sebagai berikut."
   ]
  },
  {
   "cell_type": "code",
   "execution_count": 85,
   "metadata": {},
   "outputs": [
    {
     "name": "stdout",
     "output_type": "stream",
     "text": [
      "<class 'pandas.core.series.Series'>\n",
      "RangeIndex: 1005 entries, 0 to 1004\n",
      "Series name: Sulfate\n",
      "Non-Null Count  Dtype  \n",
      "--------------  -----  \n",
      "1005 non-null   float64\n",
      "dtypes: float64(1)\n",
      "memory usage: 8.0 KB\n",
      "<class 'pandas.core.series.Series'>\n",
      "RangeIndex: 1005 entries, 1005 to 2009\n",
      "Series name: Sulfate\n",
      "Non-Null Count  Dtype  \n",
      "--------------  -----  \n",
      "1005 non-null   float64\n",
      "dtypes: float64(1)\n",
      "memory usage: 8.0 KB\n"
     ]
    }
   ],
   "source": [
    "SulfateAwal = data[\"Sulfate\"].iloc[:data[\"Sulfate\"].size//2]\n",
    "SulfateAkhir = data[\"Sulfate\"].iloc[data[\"Sulfate\"].size//2:]\n",
    "SulfateAwal.info()\n",
    "SulfateAkhir.info()"
   ]
  },
  {
   "cell_type": "markdown",
   "metadata": {},
   "source": [
    "Berikut ini adalah boxplot dari kedua data Sulfate tersebut."
   ]
  },
  {
   "cell_type": "code",
   "execution_count": 86,
   "metadata": {},
   "outputs": [
    {
     "data": {
      "text/plain": [
       "<AxesSubplot:xlabel='Sulfate'>"
      ]
     },
     "execution_count": 86,
     "metadata": {},
     "output_type": "execute_result"
    },
    {
     "data": {
      "image/png": "[encoded data removed]",
      "text/plain": [
       "<Figure size 432x288 with 1 Axes>"
      ]
     },
     "metadata": {},
     "output_type": "display_data"
    }
   ],
   "source": [
    "sns.boxplot(x = SulfateAwal)"
   ]
  },
  {
   "cell_type": "code",
   "execution_count": 87,
   "metadata": {},
   "outputs": [
    {
     "data": {
      "text/plain": [
       "<AxesSubplot:xlabel='Sulfate'>"
      ]
     },
     "execution_count": 87,
     "metadata": {},
     "output_type": "execute_result"
    },
    {
     "data": {
      "image/png": "[encoded data removed]",
      "text/plain": [
       "<Figure size 432x288 with 1 Axes>"
      ]
     },
     "metadata": {},
     "output_type": "display_data"
    }
   ],
   "source": [
    "sns.boxplot(x = SulfateAkhir)"
   ]
  },
  {
   "cell_type": "markdown",
   "metadata": {},
   "source": [
    "Selanjutnya, akan diuji apakah kedua data Sulfate tersebut memiliki rata-rata yang sama."
   ]
  },
  {
   "cell_type": "markdown",
   "metadata": {},
   "source": [
    "#### Langkah 1 : Penentuan Hipotesis Nol"
   ]
  },
  {
   "cell_type": "markdown",
   "metadata": {},
   "source": [
    "Pada soal ini, ditentukan bahwa hipotesis nol ($H_0$) adalah rata-rata Sulfate awal dan Sulfate akhir adalah sama. Oleh karena itu, diambil\n",
    "\n",
    "$$\n",
    "H_0: \\mu_{SulfateAwal} - \\mu_{SulfateAkhir} = 0\n",
    "$$"
   ]
  },
  {
   "cell_type": "markdown",
   "metadata": {},
   "source": [
    "#### Langkah 2: Penentuan Hipotesis Alternatif"
   ]
  },
  {
   "cell_type": "markdown",
   "metadata": {},
   "source": [
    "Diambil hipotesis alternatif dari permasalahan ini adalah rata-rata Sulfate awal dan Sulfate akhir berbeda. Oleh karena itu diambil\n",
    "\n",
    "$$\n",
    "H_1: \\mu_{SulfateAwal} - \\mu_{SulfateAkhir} \\neq 0\n",
    "$$"
   ]
  },
  {
   "cell_type": "markdown",
   "metadata": {},
   "source": [
    "#### Langkah 3: Penentuan Nilai Signifikansi dan Daerah kritis\n",
    "Diambil nilai signifikansi ($\\alpha$) bernilai 5%. Akan dihitung nilai daerah kritisnya. Dikarenakan dilakukan proses pengujian pada rata-rata, maka digunakanlah distribusi t."
   ]
  },
  {
   "cell_type": "markdown",
   "metadata": {},
   "source": [
    "Sebelumnya, akan dihitung terlebih dahulu nilai derajat kebebasan dari dua buah sampel. Berikut ini adalah rumus untuk menghitung derajat kebebasan.\n",
    "\n",
    "$$\n",
    "v = n_1 + n_2 - 2\n",
    "$$"
   ]
  },
  {
   "cell_type": "markdown",
   "metadata": {},
   "source": [
    "Berikut ini adalah perhitungannya menggunakan python"
   ]
  },
  {
   "cell_type": "code",
   "execution_count": 88,
   "metadata": {},
   "outputs": [
    {
     "data": {
      "text/plain": [
       "2008"
      ]
     },
     "execution_count": 88,
     "metadata": {},
     "output_type": "execute_result"
    }
   ],
   "source": [
    "v_sulfate = SulfateAwal.count() + SulfateAkhir.count() - 2\n",
    "v_sulfate"
   ]
  },
  {
   "cell_type": "markdown",
   "metadata": {},
   "source": [
    "Selanjutnya akan dihitung nilai titik kritisnya untuk mencari daerah kritisnya."
   ]
  },
  {
   "cell_type": "code",
   "execution_count": 89,
   "metadata": {},
   "outputs": [
    {
     "data": {
      "text/plain": [
       "-1.961146094844425"
      ]
     },
     "execution_count": 89,
     "metadata": {},
     "output_type": "execute_result"
    }
   ],
   "source": [
    "tValue = scipy.stats.t.ppf(0.05/2, v_sulfate)\n",
    "tValue"
   ]
  },
  {
   "cell_type": "markdown",
   "metadata": {},
   "source": [
    "Oleh karena itu, daerah kritisnya adalah\n",
    "$$\n",
    "t < - 1.961 \\lor t > 1.961\n",
    "$$"
   ]
  },
  {
   "cell_type": "markdown",
   "metadata": {},
   "source": [
    "#### Langkah 4: Pengujian Statistik"
   ]
  },
  {
   "cell_type": "markdown",
   "metadata": {},
   "source": [
    "Akan dilakukan pengujian statistik. Akan dihitung nilai berikut\n",
    "$$\n",
    "t_0 = \\frac{(\\bar{x}_1 - \\bar{x}_2) - d_0}{s_p\\sqrt{1/n_1 + 1/n_2}}\n",
    "$$"
   ]
  },
  {
   "cell_type": "markdown",
   "metadata": {},
   "source": [
    "yang dalam hal ini, $\\bar{x}_1$ menyatakan rata-rata sampel dari dataset pertama (SulfateAwal) dan $\\bar{x}_2$ menyatakan rata-rata dari dataset kedua (SulfateAkhir) dan $s_p$ menyatakan simpangan baku gabungan dari kedua sampel. Nilai $s_p$ dapat dihitung dengan rumus berikut.\n",
    "\n",
    "$$\n",
    "s_p^2 = \\frac{(n_1 - 1)s_1^2+(n_2 - 1)s_2^2}{n_1+n_2 -2}\n",
    "$$\n",
    "\n",
    "Berikut ini adalah perhitungan nilai $s_p$"
   ]
  },
  {
   "cell_type": "code",
   "execution_count": 90,
   "metadata": {},
   "outputs": [],
   "source": [
    "n1 = SulfateAwal.count()\n",
    "n2 = SulfateAkhir.count()\n",
    "s1_sqr = SulfateAwal.var(ddof=1)\n",
    "s2_sqr = SulfateAkhir.var(ddof=1)"
   ]
  },
  {
   "cell_type": "code",
   "execution_count": 91,
   "metadata": {},
   "outputs": [
    {
     "data": {
      "text/plain": [
       "41.1772368337153"
      ]
     },
     "execution_count": 91,
     "metadata": {},
     "output_type": "execute_result"
    }
   ],
   "source": [
    "sp_sqr = (((n1-1)*s1_sqr)+((n2-1)*s2_sqr))/(n1+n2-2)\n",
    "sp = np.sqrt(sp_sqr)\n",
    "sp"
   ]
  },
  {
   "cell_type": "markdown",
   "metadata": {},
   "source": [
    "Selanjutnya akan dihitung nilai $t_0$"
   ]
  },
  {
   "cell_type": "code",
   "execution_count": 92,
   "metadata": {},
   "outputs": [],
   "source": [
    "x1_bar = np.mean(SulfateAwal)\n",
    "x2_bar = np.mean(SulfateAkhir)"
   ]
  },
  {
   "cell_type": "code",
   "execution_count": 93,
   "metadata": {},
   "outputs": [
    {
     "data": {
      "text/plain": [
       "-2.0752690696871983"
      ]
     },
     "execution_count": 93,
     "metadata": {},
     "output_type": "execute_result"
    }
   ],
   "source": [
    "t0 = (x1_bar - x2_bar - 0)/(sp*np.sqrt(1/n1+1/n2))\n",
    "t0"
   ]
  },
  {
   "cell_type": "markdown",
   "metadata": {},
   "source": [
    "Akan dihitung nilai $p$ dari data yang diketahui diatas"
   ]
  },
  {
   "cell_type": "code",
   "execution_count": 94,
   "metadata": {},
   "outputs": [
    {
     "data": {
      "text/plain": [
       "0.03808865190737513"
      ]
     },
     "execution_count": 94,
     "metadata": {},
     "output_type": "execute_result"
    }
   ],
   "source": [
    "p = scipy.stats.t.cdf(t0,  v_sulfate) * 2\n",
    "p"
   ]
  },
  {
   "cell_type": "markdown",
   "metadata": {},
   "source": [
    "#### Langkah 5: Pengambilan Keputusan"
   ]
  },
  {
   "cell_type": "markdown",
   "metadata": {},
   "source": [
    "Dikarenakan $p = 0.038 < 0.05$ dan $t_0 = -2.075 < -1.961$, maka hipotesis $H_0$ tertolak. Oleh karena itu, nilai rata-rata kedua dataset tersebut berbeda."
   ]
  },
  {
   "cell_type": "markdown",
   "metadata": {},
   "source": [
    "### Soal 5.b."
   ]
  },
  {
   "cell_type": "markdown",
   "metadata": {},
   "source": [
    "Pada soal ini, akan diuji apakah rata-rata bagian awal dan bagian akhir kolom OrganicCarbon apabila dibagi menjadi 2 sama rata memiliki rata-rata bagian awal yang lebih besar dari pada bagian akhir sebesar 0.15.\n",
    "Sebelum itu kami membagi dataset OrganicCarbon menjadi dua bagian sama besar, yaitu sebagai berikut."
   ]
  },
  {
   "cell_type": "code",
   "execution_count": 95,
   "metadata": {},
   "outputs": [
    {
     "name": "stdout",
     "output_type": "stream",
     "text": [
      "<class 'pandas.core.series.Series'>\n",
      "RangeIndex: 1005 entries, 0 to 1004\n",
      "Series name: OrganicCarbon\n",
      "Non-Null Count  Dtype  \n",
      "--------------  -----  \n",
      "1005 non-null   float64\n",
      "dtypes: float64(1)\n",
      "memory usage: 8.0 KB\n",
      "<class 'pandas.core.series.Series'>\n",
      "RangeIndex: 1005 entries, 1005 to 2009\n",
      "Series name: OrganicCarbon\n",
      "Non-Null Count  Dtype  \n",
      "--------------  -----  \n",
      "1005 non-null   float64\n",
      "dtypes: float64(1)\n",
      "memory usage: 8.0 KB\n"
     ]
    }
   ],
   "source": [
    "OrganicCarbonAwal = data[\"OrganicCarbon\"].iloc[:data[\"OrganicCarbon\"].size//2]\n",
    "OrganicCarbonAkhir = data[\"OrganicCarbon\"].iloc[data[\"OrganicCarbon\"].size//2:]\n",
    "OrganicCarbonAwal.info()\n",
    "OrganicCarbonAkhir.info()"
   ]
  },
  {
   "cell_type": "markdown",
   "metadata": {},
   "source": [
    "Berikut ini adalah boxplot dari kedua data OrganicCarbon tersebut."
   ]
  },
  {
   "cell_type": "code",
   "execution_count": 96,
   "metadata": {},
   "outputs": [
    {
     "data": {
      "text/plain": [
       "<AxesSubplot:xlabel='OrganicCarbon'>"
      ]
     },
     "execution_count": 96,
     "metadata": {},
     "output_type": "execute_result"
    },
    {
     "data": {
      "image/png": "[encoded data removed]",
      "text/plain": [
       "<Figure size 432x288 with 1 Axes>"
      ]
     },
     "metadata": {},
     "output_type": "display_data"
    }
   ],
   "source": [
    "sns.boxplot(x = OrganicCarbonAwal)"
   ]
  },
  {
   "cell_type": "code",
   "execution_count": 97,
   "metadata": {},
   "outputs": [
    {
     "data": {
      "text/plain": [
       "<AxesSubplot:xlabel='OrganicCarbon'>"
      ]
     },
     "execution_count": 97,
     "metadata": {},
     "output_type": "execute_result"
    },
    {
     "data": {
      "image/png": "[encoded data removed]",
      "text/plain": [
       "<Figure size 432x288 with 1 Axes>"
      ]
     },
     "metadata": {},
     "output_type": "display_data"
    }
   ],
   "source": [
    "sns.boxplot(x = OrganicCarbonAkhir)"
   ]
  },
  {
   "cell_type": "markdown",
   "metadata": {},
   "source": [
    "Selanjutnya, akan diuji apakah kedua data OrganicCarbon tersebut memiliki beda antara bagian awal dan bagian akhir sama dengan 0.15"
   ]
  },
  {
   "cell_type": "markdown",
   "metadata": {},
   "source": [
    "#### Langkah 1 : Penentuan Hipotesis Nol"
   ]
  },
  {
   "cell_type": "markdown",
   "metadata": {},
   "source": [
    "Pada soal ini, ditentukan bahwa hipotesis nol ($H_0$) adalah rata-rata OrganicCarbon awal dan OrganicCarbon akhir adalah lebih besar OrganicCarbon awal sebesar 0.15. Oleh karena itu, diambil\n",
    "\n",
    "$$\n",
    "H_0: \\mu_{OrganicCarbonAwal} - \\mu_{OrganicCarbonAkhir} = 0.15\n",
    "$$"
   ]
  },
  {
   "cell_type": "markdown",
   "metadata": {},
   "source": [
    "#### Langkah 2: Penentuan Hipotesis Alternatif"
   ]
  },
  {
   "cell_type": "markdown",
   "metadata": {},
   "source": [
    "Diambil hipotesis alternatif dari permasalahan ini adalah  beda rata-rata OrganicCarbon awal dan OrganicCarbon akhir tidak sama dengan 0.15. Oleh karena itu diambil\n",
    "\n",
    "$$\n",
    "H_1: \\mu_{OrganicCarbonAwal} - \\mu_{OrganicCarbonAkhir} \\neq 0.15\n",
    "$$"
   ]
  },
  {
   "cell_type": "markdown",
   "metadata": {},
   "source": [
    "#### Langkah 3: Penentuan Nilai Signifikansi dan Daerah kritis\n",
    "Diambil nilai signifikansi ($\\alpha$) bernilai 5%. Akan dihitung nilai daerah kritisnya. Dikarenakan dilakukan proses pengujian pada rata-rata, maka digunakanlah distribusi t."
   ]
  },
  {
   "cell_type": "markdown",
   "metadata": {},
   "source": [
    "Sebelumnya, akan dihitung terlebih dahulu nilai derajat kebebasan dari dua buah sampel. Berikut ini adalah rumus untuk menghitung derajat kebebasan.\n",
    "\n",
    "$$\n",
    "v = n_1 + n_2 - 2\n",
    "$$"
   ]
  },
  {
   "cell_type": "markdown",
   "metadata": {},
   "source": [
    "Berikut ini adalah perhitungannya menggunakan python"
   ]
  },
  {
   "cell_type": "code",
   "execution_count": 98,
   "metadata": {},
   "outputs": [
    {
     "data": {
      "text/plain": [
       "2008"
      ]
     },
     "execution_count": 98,
     "metadata": {},
     "output_type": "execute_result"
    }
   ],
   "source": [
    "v_OrganicCarbon = OrganicCarbonAwal.count() + OrganicCarbonAkhir.count() - 2\n",
    "v_OrganicCarbon"
   ]
  },
  {
   "cell_type": "markdown",
   "metadata": {},
   "source": [
    "Selanjutnya akan dihitung nilai titik kritisnya untuk mencari daerah kritisnya."
   ]
  },
  {
   "cell_type": "code",
   "execution_count": 99,
   "metadata": {},
   "outputs": [
    {
     "data": {
      "text/plain": [
       "-1.961146094844425"
      ]
     },
     "execution_count": 99,
     "metadata": {},
     "output_type": "execute_result"
    }
   ],
   "source": [
    "tValue = scipy.stats.t.ppf(0.05/2, v_OrganicCarbon)\n",
    "tValue"
   ]
  },
  {
   "cell_type": "markdown",
   "metadata": {},
   "source": [
    "Oleh karena itu, daerah kritisnya adalah\n",
    "$$\n",
    "t < - 1.961 \\lor t > 1.961\n",
    "$$"
   ]
  },
  {
   "cell_type": "markdown",
   "metadata": {},
   "source": [
    "#### Langkah 4: Pengujian Statistik"
   ]
  },
  {
   "cell_type": "markdown",
   "metadata": {},
   "source": [
    "Akan dilakukan pengujian statistik. Akan dihitung nilai berikut\n",
    "$$\n",
    "t_0 = \\frac{(\\bar{x}_1 - \\bar{x}_2) - d_0}{s_p\\sqrt{1/n_1 + 1/n_2}}\n",
    "$$"
   ]
  },
  {
   "cell_type": "markdown",
   "metadata": {},
   "source": [
    "yang dalam hal ini, $\\bar{x}_1$ menyatakan rata-rata sampel dari dataset pertama (OrganicCarbonAwal) dan $\\bar{x}_2$ menyatakan rata-rata dari dataset kedua (OrganicCarbonAkhir) dan $s_p$ menyatakan simpangan baku gabungan dari kedua sampel. Nilai $s_p$ dapat dihitung dengan rumus berikut.\n",
    "\n",
    "$$\n",
    "s_p^2 = \\frac{(n_1 - 1)s_1^2+(n_2 - 1)s_2^2}{n_1+n_2 -2}\n",
    "$$\n",
    "\n",
    "Berikut ini adalah perhitungan nilai $s_p$"
   ]
  },
  {
   "cell_type": "code",
   "execution_count": 100,
   "metadata": {},
   "outputs": [],
   "source": [
    "n1 = OrganicCarbonAwal.count()\n",
    "n2 = OrganicCarbonAkhir.count()\n",
    "s1_sqr = OrganicCarbonAwal.var(ddof=1)\n",
    "s2_sqr = OrganicCarbonAkhir.var(ddof=1)"
   ]
  },
  {
   "cell_type": "code",
   "execution_count": 101,
   "metadata": {},
   "outputs": [
    {
     "data": {
      "text/plain": [
       "3.324971353803503"
      ]
     },
     "execution_count": 101,
     "metadata": {},
     "output_type": "execute_result"
    }
   ],
   "source": [
    "sp_sqr = (((n1-1)*s1_sqr)+((n2-1)*s2_sqr))/(n1+n2-2)\n",
    "sp = np.sqrt(sp_sqr)\n",
    "sp"
   ]
  },
  {
   "cell_type": "markdown",
   "metadata": {},
   "source": [
    "Selanjutnya akan dihitung nilai $t_0$"
   ]
  },
  {
   "cell_type": "code",
   "execution_count": 102,
   "metadata": {},
   "outputs": [],
   "source": [
    "x1_bar = np.mean(OrganicCarbonAwal)\n",
    "x2_bar = np.mean(OrganicCarbonAkhir)"
   ]
  },
  {
   "cell_type": "code",
   "execution_count": 103,
   "metadata": {},
   "outputs": [
    {
     "data": {
      "text/plain": [
       "-2.413145517798807"
      ]
     },
     "execution_count": 103,
     "metadata": {},
     "output_type": "execute_result"
    }
   ],
   "source": [
    "t0 = (x1_bar - x2_bar - 0.15)/(sp*np.sqrt(1/n1+1/n2))\n",
    "t0"
   ]
  },
  {
   "cell_type": "markdown",
   "metadata": {},
   "source": [
    "Akan dihitung nilai $p$ dari data yang diketahui diatas"
   ]
  },
  {
   "cell_type": "code",
   "execution_count": 104,
   "metadata": {},
   "outputs": [
    {
     "data": {
      "text/plain": [
       "0.01590454911867324"
      ]
     },
     "execution_count": 104,
     "metadata": {},
     "output_type": "execute_result"
    }
   ],
   "source": [
    "p = scipy.stats.t.cdf(t0,  v_OrganicCarbon) * 2\n",
    "p"
   ]
  },
  {
   "cell_type": "markdown",
   "metadata": {},
   "source": [
    "#### Langkah 5: Pengambilan Keputusan"
   ]
  },
  {
   "cell_type": "markdown",
   "metadata": {},
   "source": [
    "Dikarenakan $p = 0.016 < 0.05$ dan $t_0 = -2.413 < -1.961$, maka hipotesis $H_0$ ditolak. Oleh karena itu, nilai rata-rata bagian awal dan bagian akhir kolom OrganicCarbon memiliki beda yang tidak sama dengan 0.15"
   ]
  },
  {
   "cell_type": "markdown",
   "metadata": {},
   "source": [
    "### Soal 5.c."
   ]
  },
  {
   "cell_type": "markdown",
   "metadata": {},
   "source": [
    "Pada soal ini, akan diuji apakah rata-rata 100 data bagian awal dan 100 data bagian akhir kolom Chloramines memiliki rata-rata yang sama.\n",
    "Sebelum itu kami membagi dataset Chloramines menjadi dua bagian, yaitu sebagai berikut."
   ]
  },
  {
   "cell_type": "code",
   "execution_count": 105,
   "metadata": {},
   "outputs": [
    {
     "name": "stdout",
     "output_type": "stream",
     "text": [
      "<class 'pandas.core.series.Series'>\n",
      "RangeIndex: 100 entries, 0 to 99\n",
      "Series name: Chloramines\n",
      "Non-Null Count  Dtype  \n",
      "--------------  -----  \n",
      "100 non-null    float64\n",
      "dtypes: float64(1)\n",
      "memory usage: 928.0 bytes\n",
      "<class 'pandas.core.series.Series'>\n",
      "RangeIndex: 100 entries, 1910 to 2009\n",
      "Series name: Chloramines\n",
      "Non-Null Count  Dtype  \n",
      "--------------  -----  \n",
      "100 non-null    float64\n",
      "dtypes: float64(1)\n",
      "memory usage: 932.0 bytes\n"
     ]
    }
   ],
   "source": [
    "ChloraminesAwal = data[\"Chloramines\"].iloc[:100]\n",
    "ChloraminesAkhir = data[\"Chloramines\"].iloc[-100:]\n",
    "ChloraminesAwal.info()\n",
    "ChloraminesAkhir.info()"
   ]
  },
  {
   "cell_type": "markdown",
   "metadata": {},
   "source": [
    "Berikut ini adalah boxplot dari kedua data Chloramines tersebut."
   ]
  },
  {
   "cell_type": "code",
   "execution_count": 106,
   "metadata": {},
   "outputs": [
    {
     "data": {
      "text/plain": [
       "<AxesSubplot:xlabel='Chloramines'>"
      ]
     },
     "execution_count": 106,
     "metadata": {},
     "output_type": "execute_result"
    },
    {
     "data": {
      "image/png": "[encoded data removed]",
      "text/plain": [
       "<Figure size 432x288 with 1 Axes>"
      ]
     },
     "metadata": {},
     "output_type": "display_data"
    }
   ],
   "source": [
    "sns.boxplot(x = ChloraminesAwal)"
   ]
  },
  {
   "cell_type": "code",
   "execution_count": 107,
   "metadata": {},
   "outputs": [
    {
     "data": {
      "text/plain": [
       "<AxesSubplot:xlabel='Chloramines'>"
      ]
     },
     "execution_count": 107,
     "metadata": {},
     "output_type": "execute_result"
    },
    {
     "data": {
      "image/png": "[encoded data removed]",
      "text/plain": [
       "<Figure size 432x288 with 1 Axes>"
      ]
     },
     "metadata": {},
     "output_type": "display_data"
    }
   ],
   "source": [
    "sns.boxplot(x = ChloraminesAkhir)"
   ]
  },
  {
   "cell_type": "markdown",
   "metadata": {},
   "source": [
    "Selanjutnya, akan diuji apakah kedua data Chloramines tersebut memiliki rata-rata yang sama."
   ]
  },
  {
   "cell_type": "markdown",
   "metadata": {},
   "source": [
    "#### Langkah 1 : Penentuan Hipotesis Nol"
   ]
  },
  {
   "cell_type": "markdown",
   "metadata": {},
   "source": [
    "Pada soal ini, ditentukan bahwa hipotesis nol ($H_0$) adalah rata-rata 100 data Chloramines awal dan 100 data Chloramines akhir adalah sama. Oleh karena itu, diambil\n",
    "\n",
    "$$\n",
    "H_0: \\mu_{ChloraminesAwal} - \\mu_{ChloraminesAkhir} = 0\n",
    "$$"
   ]
  },
  {
   "cell_type": "markdown",
   "metadata": {},
   "source": [
    "#### Langkah 2: Penentuan Hipotesis Alternatif"
   ]
  },
  {
   "cell_type": "markdown",
   "metadata": {},
   "source": [
    "Diambil hipotesis alternatif dari permasalahan ini adalah rata-rata 100 data Chloramines awal dan 100 data Chloramines akhir berbeda. Oleh karena itu diambil\n",
    "\n",
    "$$\n",
    "H_1: \\mu_{ChloraminesAwal} - \\mu_{ChloraminesAkhir} \\neq 0\n",
    "$$"
   ]
  },
  {
   "cell_type": "markdown",
   "metadata": {},
   "source": [
    "#### Langkah 3: Penentuan Nilai Signifikansi dan Daerah kritis\n",
    "Diambil nilai signifikansi ($\\alpha$) bernilai 5%. Akan dihitung nilai daerah kritisnya. Dikarenakan dilakukan proses pengujian pada rata-rata, maka digunakanlah distribusi t."
   ]
  },
  {
   "cell_type": "markdown",
   "metadata": {},
   "source": [
    "Sebelumnya, akan dihitung terlebih dahulu nilai derajat kebebasan dari dua buah sampel. Berikut ini adalah rumus untuk menghitung derajat kebebasan.\n",
    "\n",
    "$$\n",
    "v = n_1 + n_2 - 2\n",
    "$$"
   ]
  },
  {
   "cell_type": "markdown",
   "metadata": {},
   "source": [
    "Berikut ini adalah perhitungannya menggunakan python"
   ]
  },
  {
   "cell_type": "code",
   "execution_count": 108,
   "metadata": {},
   "outputs": [
    {
     "data": {
      "text/plain": [
       "198"
      ]
     },
     "execution_count": 108,
     "metadata": {},
     "output_type": "execute_result"
    }
   ],
   "source": [
    "v_Chloramines = ChloraminesAwal.count() + ChloraminesAkhir.count() - 2\n",
    "v_Chloramines"
   ]
  },
  {
   "cell_type": "markdown",
   "metadata": {},
   "source": [
    "Selanjutnya akan dihitung nilai titik kritisnya untuk mencari daerah kritisnya."
   ]
  },
  {
   "cell_type": "code",
   "execution_count": 109,
   "metadata": {},
   "outputs": [
    {
     "data": {
      "text/plain": [
       "-1.972017477833896"
      ]
     },
     "execution_count": 109,
     "metadata": {},
     "output_type": "execute_result"
    }
   ],
   "source": [
    "tValue = scipy.stats.t.ppf(0.05/2, v_Chloramines)\n",
    "tValue"
   ]
  },
  {
   "cell_type": "markdown",
   "metadata": {},
   "source": [
    "Oleh karena itu, daerah kritisnya adalah\n",
    "$$\n",
    "t < - 1.972 \\lor t > 1.972\n",
    "$$"
   ]
  },
  {
   "cell_type": "markdown",
   "metadata": {},
   "source": [
    "#### Langkah 4: Pengujian Statistik"
   ]
  },
  {
   "cell_type": "markdown",
   "metadata": {},
   "source": [
    "Akan dilakukan pengujian statistik. Akan dihitung nilai berikut\n",
    "$$\n",
    "t_0 = \\frac{(\\bar{x}_1 - \\bar{x}_2) - d_0}{s_p\\sqrt{1/n_1 + 1/n_2}}\n",
    "$$"
   ]
  },
  {
   "cell_type": "markdown",
   "metadata": {},
   "source": [
    "yang dalam hal ini, $\\bar{x}_1$ menyatakan rata-rata sampel dari 100 data pertama (ChloraminesAwal) dan $\\bar{x}_2$ menyatakan rata-rata dari 100 data akhir (ChloraminesAkhir) dan $s_p$ menyatakan simpangan baku gabungan dari kedua sampel. Nilai $s_p$ dapat dihitung dengan rumus berikut.\n",
    "\n",
    "$$\n",
    "s_p^2 = \\frac{(n_1 - 1)s_1^2+(n_2 - 1)s_2^2}{n_1+n_2 -2}\n",
    "$$\n",
    "\n",
    "Berikut ini adalah perhitungan nilai $s_p$"
   ]
  },
  {
   "cell_type": "code",
   "execution_count": 110,
   "metadata": {},
   "outputs": [],
   "source": [
    "n1 = ChloraminesAwal.count()\n",
    "n2 = ChloraminesAkhir.count()\n",
    "s1_sqr = ChloraminesAwal.var(ddof=1)\n",
    "s2_sqr = ChloraminesAkhir.var(ddof=1)"
   ]
  },
  {
   "cell_type": "code",
   "execution_count": 111,
   "metadata": {},
   "outputs": [
    {
     "data": {
      "text/plain": [
       "1.396564491851799"
      ]
     },
     "execution_count": 111,
     "metadata": {},
     "output_type": "execute_result"
    }
   ],
   "source": [
    "sp_sqr = (((n1-1)*s1_sqr)+((n2-1)*s2_sqr))/(n1+n2-2)\n",
    "sp = np.sqrt(sp_sqr)\n",
    "sp"
   ]
  },
  {
   "cell_type": "markdown",
   "metadata": {},
   "source": [
    "Selanjutnya akan dihitung nilai $t_0$"
   ]
  },
  {
   "cell_type": "code",
   "execution_count": 112,
   "metadata": {},
   "outputs": [],
   "source": [
    "x1_bar = np.mean(ChloraminesAwal)\n",
    "x2_bar = np.mean(ChloraminesAkhir)"
   ]
  },
  {
   "cell_type": "code",
   "execution_count": 113,
   "metadata": {},
   "outputs": [
    {
     "data": {
      "text/plain": [
       "-0.7059424842236872"
      ]
     },
     "execution_count": 113,
     "metadata": {},
     "output_type": "execute_result"
    }
   ],
   "source": [
    "t0 = (x1_bar - x2_bar - 0)/(sp*np.sqrt(1/n1+1/n2))\n",
    "t0"
   ]
  },
  {
   "cell_type": "markdown",
   "metadata": {},
   "source": [
    "Akan dihitung nilai $p$ dari data yang diketahui diatas"
   ]
  },
  {
   "cell_type": "code",
   "execution_count": 114,
   "metadata": {},
   "outputs": [
    {
     "data": {
      "text/plain": [
       "0.48105368584331587"
      ]
     },
     "execution_count": 114,
     "metadata": {},
     "output_type": "execute_result"
    }
   ],
   "source": [
    "p = scipy.stats.t.cdf(t0,  v_Chloramines) * 2\n",
    "p"
   ]
  },
  {
   "cell_type": "markdown",
   "metadata": {},
   "source": [
    "#### Langkah 5: Pengambilan Keputusan"
   ]
  },
  {
   "cell_type": "markdown",
   "metadata": {},
   "source": [
    "Dikarenakan $p = 0.481 > 0.05$ dan $t_0 = -0.706 > -1.972$ dan $t_0 = -0.706 < 1.972$, maka hipotesis $H_0$ diterima. Oleh karena itu, nilai rata-rata 100 data pertama dan 100 data terakhir Chloramines tersebut sama."
   ]
  },
  {
   "cell_type": "markdown",
   "metadata": {},
   "source": [
    "### Soal 5.d."
   ]
  },
  {
   "cell_type": "markdown",
   "metadata": {},
   "source": [
    "Pada soal ini, akan diuji apakah proporsi bagian awal dan bagian akhir kolom sulfate apabila dibagi menjadi 2 sama rata memiliki proporsi nilai bagian awal Turbidity yang lebih dari 4 lebih besar daripada bagian akhir.\n",
    "Sebelum itu kami membagi dataset Turbidity menjadi dua bagian sama besar, yaitu sebagai berikut."
   ]
  },
  {
   "cell_type": "code",
   "execution_count": 115,
   "metadata": {},
   "outputs": [
    {
     "name": "stdout",
     "output_type": "stream",
     "text": [
      "<class 'pandas.core.series.Series'>\n",
      "RangeIndex: 1005 entries, 0 to 1004\n",
      "Series name: Turbidity\n",
      "Non-Null Count  Dtype  \n",
      "--------------  -----  \n",
      "1005 non-null   float64\n",
      "dtypes: float64(1)\n",
      "memory usage: 8.0 KB\n",
      "<class 'pandas.core.series.Series'>\n",
      "RangeIndex: 1005 entries, 1005 to 2009\n",
      "Series name: Turbidity\n",
      "Non-Null Count  Dtype  \n",
      "--------------  -----  \n",
      "1005 non-null   float64\n",
      "dtypes: float64(1)\n",
      "memory usage: 8.0 KB\n"
     ]
    }
   ],
   "source": [
    "TurbidityAwal = data[\"Turbidity\"].iloc[:data[\"Turbidity\"].size//2]\n",
    "TurbidityAkhir = data[\"Turbidity\"].iloc[data[\"Turbidity\"].size//2:]\n",
    "TurbidityAwal.info()\n",
    "TurbidityAkhir.info()"
   ]
  },
  {
   "cell_type": "markdown",
   "metadata": {},
   "source": [
    "Berikut ini adalah boxplot dari kedua data Sulfate tersebut."
   ]
  },
  {
   "cell_type": "code",
   "execution_count": 116,
   "metadata": {},
   "outputs": [
    {
     "data": {
      "text/plain": [
       "<AxesSubplot:xlabel='Turbidity'>"
      ]
     },
     "execution_count": 116,
     "metadata": {},
     "output_type": "execute_result"
    },
    {
     "data": {
      "image/png": "[encoded data removed]",
      "text/plain": [
       "<Figure size 432x288 with 1 Axes>"
      ]
     },
     "metadata": {},
     "output_type": "display_data"
    }
   ],
   "source": [
    "sns.boxplot(x = TurbidityAwal)"
   ]
  },
  {
   "cell_type": "code",
   "execution_count": 117,
   "metadata": {},
   "outputs": [
    {
     "data": {
      "text/plain": [
       "<AxesSubplot:xlabel='Turbidity'>"
      ]
     },
     "execution_count": 117,
     "metadata": {},
     "output_type": "execute_result"
    },
    {
     "data": {
      "image/png": "[encoded data removed]",
      "text/plain": [
       "<Figure size 432x288 with 1 Axes>"
      ]
     },
     "metadata": {},
     "output_type": "display_data"
    }
   ],
   "source": [
    "sns.boxplot(x = TurbidityAkhir)"
   ]
  },
  {
   "cell_type": "markdown",
   "metadata": {},
   "source": [
    "Selanjutnya, akan diuji apakah kedua data Turbidity tersebut memiliki proporsi yang sama"
   ]
  },
  {
   "cell_type": "markdown",
   "metadata": {},
   "source": [
    "#### Langkah 1 : Penentuan Hipotesis Nol"
   ]
  },
  {
   "cell_type": "markdown",
   "metadata": {},
   "source": [
    "Pada soal ini, ditentukan bahwa hipotesis nol ($H_0$) adalah proporsi Turbidity awal yang lebih dari 4 dan Turbidity akhir yang lebih dari 4 adalah sama. Oleh karena itu, diambil\n",
    "\n",
    "$$\n",
    "H_0: p_{TurbidityAwal} - p_{TurbidityAkhir} = 0\n",
    "$$"
   ]
  },
  {
   "cell_type": "markdown",
   "metadata": {},
   "source": [
    "#### Langkah 2: Penentuan Hipotesis Alternatif"
   ]
  },
  {
   "cell_type": "markdown",
   "metadata": {},
   "source": [
    "Diambil hipotesis alternatif dari permasalahan ini adalah proporsi Turbidity awal yang lebih dari 4 lebih besar dari Turbidity akhir yang lebih dari 4. Oleh karena itu diambil\n",
    "\n",
    "$$\n",
    "H_1: p_{TurbidityAwal} - p_{TurbidityAkhir} > 0\n",
    "$$"
   ]
  },
  {
   "cell_type": "markdown",
   "metadata": {},
   "source": [
    "#### Langkah 3: Penentuan Nilai Signifikansi dan Daerah kritis\n",
    "Diambil nilai signifikansi ($\\alpha$) bernilai 5%. Akan dihitung nilai daerah kritisnya. Dikarenakan dilakukan proses pengujian pada rata-rata, maka digunakanlah distribusi normal (z)."
   ]
  },
  {
   "cell_type": "markdown",
   "metadata": {},
   "source": [
    "Selanjutnya akan dihitung nilai titik kritisnya untuk mencari daerah kritisnya."
   ]
  },
  {
   "cell_type": "code",
   "execution_count": 118,
   "metadata": {},
   "outputs": [
    {
     "data": {
      "text/plain": [
       "1.6448536269514722"
      ]
     },
     "execution_count": 118,
     "metadata": {},
     "output_type": "execute_result"
    }
   ],
   "source": [
    "norm = scipy.stats.norm()\n",
    "z_value = norm.ppf(1-0.05)\n",
    "z_value"
   ]
  },
  {
   "cell_type": "markdown",
   "metadata": {},
   "source": [
    "Oleh karena itu, daerah kritisnya adalah\n",
    "$$\n",
    "z > 1.645\n",
    "$$"
   ]
  },
  {
   "cell_type": "markdown",
   "metadata": {},
   "source": [
    "#### Langkah 4: Pengujian Statistik"
   ]
  },
  {
   "cell_type": "markdown",
   "metadata": {},
   "source": [
    "Akan dilakukan pengujian statistik. Akan dihitung nilai berikut\n",
    "$$\n",
    "z_0 = \\frac{\\hat{p}_1 - \\hat{p}_2}{\\sqrt{\\hat{p}\\hat{q}(1/n_1+1/n_2)}}\n",
    "$$"
   ]
  },
  {
   "cell_type": "markdown",
   "metadata": {},
   "source": [
    "yang dalam hal ini, $\\hat{p}_1$ menyatakan proporsi sampel pertama (TurbidityAwal) dan $\\hat{p}_2$ menyatakan proporsi dari sampel kedua (TurbidityAkhir) dan $\\hat{p}$ menyatakan proporsi gabungan dari kedua sampel, sedangkan $\\hat{q}$ menyatakan nilai $1 - \\hat{p}$. Nilai $\\hat{p}$ dapat dihitung dengan rumus berikut.\n",
    "\n",
    "$$\n",
    "\\hat{p} = \\frac{x_1+x_2}{n_1+n_2}\n",
    "$$\n",
    "\n",
    "Berikut ini adalah perhitungan nilai $\\hat{p}$"
   ]
  },
  {
   "cell_type": "code",
   "execution_count": 119,
   "metadata": {},
   "outputs": [],
   "source": [
    "x1 = TurbidityAwal[TurbidityAwal > 4].count()\n",
    "x2 = TurbidityAkhir[TurbidityAkhir > 4].count()\n",
    "n1 = TurbidityAwal.count()\n",
    "n2 = TurbidityAkhir.count()"
   ]
  },
  {
   "cell_type": "code",
   "execution_count": 120,
   "metadata": {},
   "outputs": [
    {
     "data": {
      "text/plain": [
       "0.48507462686567165"
      ]
     },
     "execution_count": 120,
     "metadata": {},
     "output_type": "execute_result"
    }
   ],
   "source": [
    "hat_p = (x1+x2)/(n1+n2)\n",
    "hat_p"
   ]
  },
  {
   "cell_type": "markdown",
   "metadata": {},
   "source": [
    "Selanjutnya akan dihitung nilai $p_1$, $p_2$, dan nilai $q$."
   ]
  },
  {
   "cell_type": "code",
   "execution_count": 121,
   "metadata": {},
   "outputs": [],
   "source": [
    "p1 = x1/n1\n",
    "p2 = x2/n2\n",
    "q = 1 - p"
   ]
  },
  {
   "cell_type": "markdown",
   "metadata": {},
   "source": [
    "Selanjutnya akan dihitung nilai $z_0$"
   ]
  },
  {
   "cell_type": "code",
   "execution_count": 122,
   "metadata": {},
   "outputs": [
    {
     "data": {
      "text/plain": [
       "-0.13336987097338307"
      ]
     },
     "execution_count": 122,
     "metadata": {},
     "output_type": "execute_result"
    }
   ],
   "source": [
    "z0 = (p1 - p2)/(np.sqrt(hat_p*q*(1/n1+1/n2)))\n",
    "z0"
   ]
  },
  {
   "cell_type": "markdown",
   "metadata": {},
   "source": [
    "Akan dihitung nilai $p$ dari data yang diketahui diatas"
   ]
  },
  {
   "cell_type": "code",
   "execution_count": 123,
   "metadata": {},
   "outputs": [
    {
     "data": {
      "text/plain": [
       "0.5530495640039329"
      ]
     },
     "execution_count": 123,
     "metadata": {},
     "output_type": "execute_result"
    }
   ],
   "source": [
    "p = 1 - norm.cdf(z0)\n",
    "p"
   ]
  },
  {
   "cell_type": "markdown",
   "metadata": {},
   "source": [
    "#### Langkah 5: Pengambilan Keputusan"
   ]
  },
  {
   "cell_type": "markdown",
   "metadata": {},
   "source": [
    "Dikarenakan $p = 0.553 > 0.05$ dan $z_0 = -0.133 < 1.645$, maka hipotesis $H_0$ diterima. Oleh karena itu, nilai proporsi keduanya adalah sama."
   ]
  },
  {
   "cell_type": "markdown",
   "metadata": {},
   "source": [
    "### Soal 5.e."
   ]
  },
  {
   "cell_type": "markdown",
   "metadata": {},
   "source": [
    "Pada soal ini, akan diuji apakah variansi bagian awal dan bagian akhir kolom sulfate apabila dibagi menjadi 2 sama rata memiliki rata-rata yang sama.\n",
    "Sebelum itu kami membagi dataset Sulfate menjadi dua bagian sama besar, yaitu sebagai berikut."
   ]
  },
  {
   "cell_type": "code",
   "execution_count": 124,
   "metadata": {},
   "outputs": [
    {
     "name": "stdout",
     "output_type": "stream",
     "text": [
      "<class 'pandas.core.series.Series'>\n",
      "RangeIndex: 1005 entries, 0 to 1004\n",
      "Series name: Sulfate\n",
      "Non-Null Count  Dtype  \n",
      "--------------  -----  \n",
      "1005 non-null   float64\n",
      "dtypes: float64(1)\n",
      "memory usage: 8.0 KB\n",
      "<class 'pandas.core.series.Series'>\n",
      "RangeIndex: 1005 entries, 1005 to 2009\n",
      "Series name: Sulfate\n",
      "Non-Null Count  Dtype  \n",
      "--------------  -----  \n",
      "1005 non-null   float64\n",
      "dtypes: float64(1)\n",
      "memory usage: 8.0 KB\n"
     ]
    }
   ],
   "source": [
    "SulfateAwal = data[\"Sulfate\"].iloc[:data[\"Sulfate\"].size//2]\n",
    "SulfateAkhir = data[\"Sulfate\"].iloc[data[\"Sulfate\"].size//2:]\n",
    "SulfateAwal.info()\n",
    "SulfateAkhir.info()"
   ]
  },
  {
   "cell_type": "markdown",
   "metadata": {},
   "source": [
    "Berikut ini adalah boxplot dari kedua data Sulfate tersebut."
   ]
  },
  {
   "cell_type": "code",
   "execution_count": 125,
   "metadata": {},
   "outputs": [
    {
     "data": {
      "text/plain": [
       "<AxesSubplot:xlabel='Sulfate'>"
      ]
     },
     "execution_count": 125,
     "metadata": {},
     "output_type": "execute_result"
    },
    {
     "data": {
      "image/png": "[encoded data removed]",
      "text/plain": [
       "<Figure size 432x288 with 1 Axes>"
      ]
     },
     "metadata": {},
     "output_type": "display_data"
    }
   ],
   "source": [
    "sns.boxplot(x = SulfateAwal)"
   ]
  },
  {
   "cell_type": "code",
   "execution_count": 126,
   "metadata": {},
   "outputs": [
    {
     "data": {
      "text/plain": [
       "<AxesSubplot:xlabel='Sulfate'>"
      ]
     },
     "execution_count": 126,
     "metadata": {},
     "output_type": "execute_result"
    },
    {
     "data": {
      "image/png": "[encoded data removed]",
      "text/plain": [
       "<Figure size 432x288 with 1 Axes>"
      ]
     },
     "metadata": {},
     "output_type": "display_data"
    }
   ],
   "source": [
    "sns.boxplot(x = SulfateAkhir)"
   ]
  },
  {
   "cell_type": "markdown",
   "metadata": {},
   "source": [
    "Selanjutnya, akan diuji apakah kedua data Sulfate tersebut memiliki rata-rata yang sama."
   ]
  },
  {
   "cell_type": "markdown",
   "metadata": {},
   "source": [
    "#### Langkah 1 : Penentuan Hipotesis Nol"
   ]
  },
  {
   "cell_type": "markdown",
   "metadata": {},
   "source": [
    "Pada soal ini, ditentukan bahwa hipotesis nol ($H_0$) adalah variansi Sulfate awal dan Sulfate akhir adalah sama. Oleh karena itu, diambil\n",
    "\n",
    "$$\n",
    "H_0: \\sigma^2_{SulfateAwal} = \\sigma^2_{SulfateAkhir}\n",
    "$$"
   ]
  },
  {
   "cell_type": "markdown",
   "metadata": {},
   "source": [
    "#### Langkah 2: Penentuan Hipotesis Alternatif"
   ]
  },
  {
   "cell_type": "markdown",
   "metadata": {},
   "source": [
    "Diambil hipotesis alternatif dari permasalahan ini adalah variansi Sulfate awal dan Sulfate akhir berbeda. Oleh karena itu diambil\n",
    "\n",
    "$$\n",
    "H_1: \\sigma^2_{SulfateAwal} \\neq \\sigma^2_{SulfateAkhir} \n",
    "$$"
   ]
  },
  {
   "cell_type": "markdown",
   "metadata": {},
   "source": [
    "#### Langkah 3: Penentuan Nilai Signifikansi dan Daerah kritis\n",
    "Diambil nilai signifikansi ($\\alpha$) bernilai 5%. Akan dihitung nilai daerah kritisnya. Dikarenakan dilakukan proses pengujian pada rata-rata, maka digunakanlah distribusi f."
   ]
  },
  {
   "cell_type": "markdown",
   "metadata": {},
   "source": [
    "Sebelumnya, akan dihitung terlebih dahulu nilai derajat kebebasan $v_1$ dan $v_2$. Berikut ini adalah rumus untuk menghitung derajat kebebasan tersebut.\n",
    "\n",
    "$$\n",
    "v_1 = n_1 - 1\n",
    "$$\n",
    "$$\n",
    "v_2 = n_2 - 1\n",
    "$$"
   ]
  },
  {
   "cell_type": "markdown",
   "metadata": {},
   "source": [
    "Berikut ini adalah perhitungannya menggunakan python"
   ]
  },
  {
   "cell_type": "code",
   "execution_count": 127,
   "metadata": {},
   "outputs": [
    {
     "name": "stdout",
     "output_type": "stream",
     "text": [
      "1004\n",
      "1004\n"
     ]
    }
   ],
   "source": [
    "v1 = SulfateAwal.count() - 1\n",
    "v2 = SulfateAkhir.count() - 1\n",
    "print(v1)\n",
    "print(v2)"
   ]
  },
  {
   "cell_type": "markdown",
   "metadata": {},
   "source": [
    "Selanjutnya akan dihitung nilai titik kritisnya untuk mencari daerah kritisnya."
   ]
  },
  {
   "cell_type": "code",
   "execution_count": 128,
   "metadata": {},
   "outputs": [
    {
     "name": "stdout",
     "output_type": "stream",
     "text": [
      "fAwal = 0.883572344355818\n",
      "fAkhir = 1.1317692392568777\n"
     ]
    }
   ],
   "source": [
    "fAwal = scipy.stats.f.ppf(0.05/2, v1, v2)\n",
    "fAkhir = scipy.stats.f.ppf(1 - 0.05/2, v1, v2)\n",
    "print(f'fAwal = {fAwal}')\n",
    "print(f'fAkhir = {fAkhir}')"
   ]
  },
  {
   "cell_type": "markdown",
   "metadata": {},
   "source": [
    "Oleh karena itu, daerah kritisnya adalah\n",
    "$$\n",
    "f < 0.884 \\lor f > 1.132\n",
    "$$"
   ]
  },
  {
   "cell_type": "markdown",
   "metadata": {},
   "source": [
    "#### Langkah 4: Pengujian Statistik"
   ]
  },
  {
   "cell_type": "markdown",
   "metadata": {},
   "source": [
    "Akan dilakukan pengujian statistik. Akan dihitung nilai berikut\n",
    "$$\n",
    "f_0 = \\frac{s_1^2}{s_2^2}\n",
    "$$"
   ]
  },
  {
   "cell_type": "markdown",
   "metadata": {},
   "source": [
    "yang dalam hal ini, $s_1^2$ menyatakan variansi sampel dari dataset pertama (SulfateAwal) dan $s_2^2$ menyatakan variansi dari dataset kedua (SulfateAkhir).\n",
    "\n",
    "Berikut ini adalah perhitungan nilai $f_0$"
   ]
  },
  {
   "cell_type": "code",
   "execution_count": 129,
   "metadata": {},
   "outputs": [],
   "source": [
    "s1_sqr = SulfateAwal.var(ddof=1)\n",
    "s2_sqr = SulfateAkhir.var(ddof=1)"
   ]
  },
  {
   "cell_type": "code",
   "execution_count": 130,
   "metadata": {},
   "outputs": [
    {
     "data": {
      "text/plain": [
       "1.0152511043950063"
      ]
     },
     "execution_count": 130,
     "metadata": {},
     "output_type": "execute_result"
    }
   ],
   "source": [
    "f0 = s1_sqr/s2_sqr\n",
    "f0"
   ]
  },
  {
   "cell_type": "markdown",
   "metadata": {},
   "source": [
    "#### Langkah 5: Pengambilan Keputusan"
   ]
  },
  {
   "cell_type": "markdown",
   "metadata": {},
   "source": [
    "Dikarenakan $f_0 = 1.015 > 0.884$ dan $f_0 = 1.015 < 1.132$ maka hipotesis $f_0$ berada di luar titik kritis, sehingga hipotesis $H_0$ diterima.\n",
    "\n",
    "Jadi, kesimpulannya adalah variansi dari kedua data tersebut adalah sama."
   ]
  },
  {
   "cell_type": "markdown",
   "metadata": {},
   "source": [
    "## Nomor 6: Korelasi"
   ]
  },
  {
   "cell_type": "markdown",
   "metadata": {},
   "source": [
    "Dua buah dataset dapat memiliki satu sama lain. Nilai koefisien korelasi dua dataset tersebut menyatakan bagaimana dua buah data saling berkorelasi satu sama lain. Rumus yang menyatakan korelasi dari data adalah sebagai berikut.\n",
    "\n",
    "$$\n",
    "\\rho_{xy} = \\frac{n\\sum{x_iy_i}-\\sum{x_i}\\sum{y_i}}{\\sqrt{\\sum{x_i^2}-(\\sum{x_i})^2}\\cdot\\sqrt{\\sum{y_i^2}-(\\sum{y_i})^2}} = \\frac{\\sigma_{xy}}{\\sigma_x\\sigma_y}\n",
    "$$\n"
   ]
  },
  {
   "cell_type": "markdown",
   "metadata": {},
   "source": [
    "Nilai $\\rho_{xy}$ menentukan korelasi antara dua buah data. Berikut ini adalah cara memaknai nilai koefisien korelasi tersebut.\n",
    "- Semakin nilai $\\rho_{xy}$ mendekati 0, kedua kolom tidak berkorelasi.\n",
    "- Semakin nilai $\\rho_{xy}$ mendekati 1, kedua kolom berbanding lurus.\n",
    "- Semakin nilai $\\rho_{xy}$ mendekati -1, kedua kolom berbanding terbalik."
   ]
  },
  {
   "cell_type": "markdown",
   "metadata": {},
   "source": [
    "### Korelasi Data pH dan Potability"
   ]
  },
  {
   "cell_type": "markdown",
   "metadata": {},
   "source": [
    "Berikut ini adalah scatter plot dari data pH dengan Potability."
   ]
  },
  {
   "cell_type": "code",
   "execution_count": 131,
   "metadata": {},
   "outputs": [
    {
     "data": {
      "text/plain": [
       "<AxesSubplot:xlabel='pH', ylabel='Potability'>"
      ]
     },
     "execution_count": 131,
     "metadata": {},
     "output_type": "execute_result"
    },
    {
     "data": {
      "image/png": "[encoded data removed]",
      "text/plain": [
       "<Figure size 432x288 with 1 Axes>"
      ]
     },
     "metadata": {},
     "output_type": "display_data"
    }
   ],
   "source": [
    "sns.scatterplot(x = \"pH\", y = \"Potability\", data = data)"
   ]
  },
  {
   "cell_type": "markdown",
   "metadata": {},
   "source": [
    "Selanjutnya akan dihitung nilai koefisien korelasi antarkeduanya menggunakan python."
   ]
  },
  {
   "cell_type": "code",
   "execution_count": 132,
   "metadata": {},
   "outputs": [
    {
     "data": {
      "text/plain": [
       "0.015475094408433492"
      ]
     },
     "execution_count": 132,
     "metadata": {},
     "output_type": "execute_result"
    }
   ],
   "source": [
    "data[\"pH\"].corr(data[\"Potability\"])"
   ]
  },
  {
   "cell_type": "markdown",
   "metadata": {},
   "source": [
    "Nilai koefisien korelasi pH dan potability mendekati nol. Oleh karena itu, kedua atribut tersebut tidak memiliki korelasi."
   ]
  },
  {
   "cell_type": "markdown",
   "metadata": {},
   "source": [
    "### Korelasi Data Hardness dan Potability"
   ]
  },
  {
   "cell_type": "markdown",
   "metadata": {},
   "source": [
    "Berikut ini adalah scatter plot dari data Hardness dengan Potability."
   ]
  },
  {
   "cell_type": "code",
   "execution_count": 133,
   "metadata": {},
   "outputs": [
    {
     "data": {
      "text/plain": [
       "<AxesSubplot:xlabel='Hardness', ylabel='Potability'>"
      ]
     },
     "execution_count": 133,
     "metadata": {},
     "output_type": "execute_result"
    },
    {
     "data": {
      "image/png": "[encoded data removed]",
      "text/plain": [
       "<Figure size 432x288 with 1 Axes>"
      ]
     },
     "metadata": {},
     "output_type": "display_data"
    }
   ],
   "source": [
    "sns.scatterplot(x = \"Hardness\", y = \"Potability\", data = data)"
   ]
  },
  {
   "cell_type": "markdown",
   "metadata": {},
   "source": [
    "Selanjutnya akan dihitung nilai koefisien korelasi antarkeduanya menggunakan python."
   ]
  },
  {
   "cell_type": "code",
   "execution_count": 134,
   "metadata": {},
   "outputs": [
    {
     "data": {
      "text/plain": [
       "-0.0014631528959479442"
      ]
     },
     "execution_count": 134,
     "metadata": {},
     "output_type": "execute_result"
    }
   ],
   "source": [
    "data[\"Hardness\"].corr(data[\"Potability\"])"
   ]
  },
  {
   "cell_type": "markdown",
   "metadata": {},
   "source": [
    "Nilai koefisien korelasi Hardness dan potability mendekati nol. Oleh karena itu, kedua atribut tersebut tidak memiliki korelasi."
   ]
  },
  {
   "cell_type": "markdown",
   "metadata": {},
   "source": [
    "### Korelasi Data Solids dan Potability"
   ]
  },
  {
   "cell_type": "markdown",
   "metadata": {},
   "source": [
    "Berikut ini adalah scatter plot dari data Solids dengan Potability."
   ]
  },
  {
   "cell_type": "code",
   "execution_count": 135,
   "metadata": {},
   "outputs": [
    {
     "data": {
      "text/plain": [
       "<AxesSubplot:xlabel='Solids', ylabel='Potability'>"
      ]
     },
     "execution_count": 135,
     "metadata": {},
     "output_type": "execute_result"
    },
    {
     "data": {
      "image/png": "[encoded data removed]",
      "text/plain": [
       "<Figure size 432x288 with 1 Axes>"
      ]
     },
     "metadata": {},
     "output_type": "display_data"
    }
   ],
   "source": [
    "sns.scatterplot(x = \"Solids\", y = \"Potability\", data = data)"
   ]
  },
  {
   "cell_type": "markdown",
   "metadata": {},
   "source": [
    "Selanjutnya akan dihitung nilai koefisien korelasi antarkeduanya menggunakan python."
   ]
  },
  {
   "cell_type": "code",
   "execution_count": 136,
   "metadata": {},
   "outputs": [
    {
     "data": {
      "text/plain": [
       "0.0389765781817347"
      ]
     },
     "execution_count": 136,
     "metadata": {},
     "output_type": "execute_result"
    }
   ],
   "source": [
    "data[\"Solids\"].corr(data[\"Potability\"])"
   ]
  },
  {
   "cell_type": "markdown",
   "metadata": {},
   "source": [
    "Nilai koefisien korelasi Solids dan potability mendekati nol. Oleh karena itu, kedua atribut tersebut tidak memiliki korelasi."
   ]
  },
  {
   "cell_type": "markdown",
   "metadata": {},
   "source": [
    "### Korelasi Data Chloramines dan Potability"
   ]
  },
  {
   "cell_type": "markdown",
   "metadata": {},
   "source": [
    "Berikut ini adalah scatter plot dari data Chloramines dengan Potability."
   ]
  },
  {
   "cell_type": "code",
   "execution_count": 137,
   "metadata": {},
   "outputs": [
    {
     "data": {
      "text/plain": [
       "<AxesSubplot:xlabel='Chloramines', ylabel='Potability'>"
      ]
     },
     "execution_count": 137,
     "metadata": {},
     "output_type": "execute_result"
    },
    {
     "data": {
      "image/png": "[encoded data removed]",
      "text/plain": [
       "<Figure size 432x288 with 1 Axes>"
      ]
     },
     "metadata": {},
     "output_type": "display_data"
    }
   ],
   "source": [
    "sns.scatterplot(x = \"Chloramines\", y = \"Potability\", data = data)"
   ]
  },
  {
   "cell_type": "markdown",
   "metadata": {},
   "source": [
    "Selanjutnya akan dihitung nilai koefisien korelasi antarkeduanya menggunakan python."
   ]
  },
  {
   "cell_type": "code",
   "execution_count": 138,
   "metadata": {},
   "outputs": [
    {
     "data": {
      "text/plain": [
       "0.020778921840524087"
      ]
     },
     "execution_count": 138,
     "metadata": {},
     "output_type": "execute_result"
    }
   ],
   "source": [
    "data[\"Chloramines\"].corr(data[\"Potability\"])"
   ]
  },
  {
   "cell_type": "markdown",
   "metadata": {},
   "source": [
    "Nilai koefisien korelasi Chloramines dan potability mendekati nol. Oleh karena itu, kedua atribut tersebut tidak memiliki korelasi."
   ]
  },
  {
   "cell_type": "markdown",
   "metadata": {},
   "source": [
    "### Korelasi Data Sulfate dan Potability"
   ]
  },
  {
   "cell_type": "markdown",
   "metadata": {},
   "source": [
    "Berikut ini adalah scatter plot dari data Sulfate dengan Potability."
   ]
  },
  {
   "cell_type": "code",
   "execution_count": 139,
   "metadata": {},
   "outputs": [
    {
     "data": {
      "text/plain": [
       "<AxesSubplot:xlabel='Sulfate', ylabel='Potability'>"
      ]
     },
     "execution_count": 139,
     "metadata": {},
     "output_type": "execute_result"
    },
    {
     "data": {
      "image/png": "[encoded data removed]",
      "text/plain": [
       "<Figure size 432x288 with 1 Axes>"
      ]
     },
     "metadata": {},
     "output_type": "display_data"
    }
   ],
   "source": [
    "sns.scatterplot(x = \"Sulfate\", y = \"Potability\", data = data)"
   ]
  },
  {
   "cell_type": "markdown",
   "metadata": {},
   "source": [
    "Selanjutnya akan dihitung nilai koefisien korelasi antarkeduanya menggunakan python."
   ]
  },
  {
   "cell_type": "code",
   "execution_count": 140,
   "metadata": {},
   "outputs": [
    {
     "data": {
      "text/plain": [
       "-0.01570316441927379"
      ]
     },
     "execution_count": 140,
     "metadata": {},
     "output_type": "execute_result"
    }
   ],
   "source": [
    "data[\"Sulfate\"].corr(data[\"Potability\"])"
   ]
  },
  {
   "cell_type": "markdown",
   "metadata": {},
   "source": [
    "Nilai koefisien korelasi Sulfate dan potability mendekati nol. Oleh karena itu, kedua atribut tersebut tidak memiliki korelasi."
   ]
  },
  {
   "cell_type": "markdown",
   "metadata": {},
   "source": [
    "### Korelasi Data Conductivity dan Potability"
   ]
  },
  {
   "cell_type": "markdown",
   "metadata": {},
   "source": [
    "Berikut ini adalah scatter plot dari data Conductivity dengan Potability."
   ]
  },
  {
   "cell_type": "code",
   "execution_count": 141,
   "metadata": {},
   "outputs": [
    {
     "data": {
      "text/plain": [
       "<AxesSubplot:xlabel='Conductivity', ylabel='Potability'>"
      ]
     },
     "execution_count": 141,
     "metadata": {},
     "output_type": "execute_result"
    },
    {
     "data": {
      "image/png": "[encoded data removed]",
      "text/plain": [
       "<Figure size 432x288 with 1 Axes>"
      ]
     },
     "metadata": {},
     "output_type": "display_data"
    }
   ],
   "source": [
    "sns.scatterplot(x = \"Conductivity\", y = \"Potability\", data = data)"
   ]
  },
  {
   "cell_type": "markdown",
   "metadata": {},
   "source": [
    "Selanjutnya akan dihitung nilai koefisien korelasi antarkeduanya menggunakan python."
   ]
  },
  {
   "cell_type": "code",
   "execution_count": 142,
   "metadata": {},
   "outputs": [
    {
     "data": {
      "text/plain": [
       "-0.016257120111377105"
      ]
     },
     "execution_count": 142,
     "metadata": {},
     "output_type": "execute_result"
    }
   ],
   "source": [
    "data[\"Conductivity\"].corr(data[\"Potability\"])"
   ]
  },
  {
   "cell_type": "markdown",
   "metadata": {},
   "source": [
    "Nilai koefisien korelasi Conductivity dan potability mendekati nol. Oleh karena itu, kedua atribut tersebut tidak memiliki korelasi."
   ]
  },
  {
   "cell_type": "markdown",
   "metadata": {},
   "source": [
    "### Korelasi Data OrganicCarbon dan Potability"
   ]
  },
  {
   "cell_type": "markdown",
   "metadata": {},
   "source": [
    "Berikut ini adalah scatter plot dari data OrganicCarbon dengan Potability."
   ]
  },
  {
   "cell_type": "code",
   "execution_count": 143,
   "metadata": {},
   "outputs": [
    {
     "data": {
      "text/plain": [
       "<AxesSubplot:xlabel='OrganicCarbon', ylabel='Potability'>"
      ]
     },
     "execution_count": 143,
     "metadata": {},
     "output_type": "execute_result"
    },
    {
     "data": {
      "image/png": "[encoded data removed]",
      "text/plain": [
       "<Figure size 432x288 with 1 Axes>"
      ]
     },
     "metadata": {},
     "output_type": "display_data"
    }
   ],
   "source": [
    "sns.scatterplot(x = \"OrganicCarbon\", y = \"Potability\", data = data)"
   ]
  },
  {
   "cell_type": "markdown",
   "metadata": {},
   "source": [
    "Selanjutnya akan dihitung nilai koefisien korelasi antarkeduanya menggunakan python."
   ]
  },
  {
   "cell_type": "code",
   "execution_count": 144,
   "metadata": {},
   "outputs": [
    {
     "data": {
      "text/plain": [
       "-0.015488461910747282"
      ]
     },
     "execution_count": 144,
     "metadata": {},
     "output_type": "execute_result"
    }
   ],
   "source": [
    "data[\"OrganicCarbon\"].corr(data[\"Potability\"])"
   ]
  },
  {
   "cell_type": "markdown",
   "metadata": {},
   "source": [
    "Nilai koefisien korelasi OrganicCarbon dan potability mendekati nol. Oleh karena itu, kedua atribut tersebut tidak memiliki korelasi."
   ]
  },
  {
   "cell_type": "markdown",
   "metadata": {},
   "source": [
    "### Korelasi Data Trihalomethanes dan Potability"
   ]
  },
  {
   "cell_type": "markdown",
   "metadata": {},
   "source": [
    "Berikut ini adalah scatter plot dari data Trihalomethanes dengan Potability."
   ]
  },
  {
   "cell_type": "code",
   "execution_count": 145,
   "metadata": {},
   "outputs": [
    {
     "data": {
      "text/plain": [
       "<AxesSubplot:xlabel='Trihalomethanes', ylabel='Potability'>"
      ]
     },
     "execution_count": 145,
     "metadata": {},
     "output_type": "execute_result"
    },
    {
     "data": {
      "image/png": "[encoded data removed]",
      "text/plain": [
       "<Figure size 432x288 with 1 Axes>"
      ]
     },
     "metadata": {},
     "output_type": "display_data"
    }
   ],
   "source": [
    "sns.scatterplot(x = \"Trihalomethanes\", y = \"Potability\", data = data)"
   ]
  },
  {
   "cell_type": "markdown",
   "metadata": {},
   "source": [
    "Selanjutnya akan dihitung nilai koefisien korelasi antarkeduanya menggunakan python."
   ]
  },
  {
   "cell_type": "code",
   "execution_count": 146,
   "metadata": {},
   "outputs": [
    {
     "data": {
      "text/plain": [
       "0.009236711064713004"
      ]
     },
     "execution_count": 146,
     "metadata": {},
     "output_type": "execute_result"
    }
   ],
   "source": [
    "data[\"Trihalomethanes\"].corr(data[\"Potability\"])"
   ]
  },
  {
   "cell_type": "markdown",
   "metadata": {},
   "source": [
    "Nilai koefisien korelasi Trihalomethanes dan potability mendekati nol. Oleh karena itu, kedua atribut tersebut tidak memiliki korelasi."
   ]
  },
  {
   "cell_type": "markdown",
   "metadata": {},
   "source": [
    "### Korelasi Data Turbidity dan Potability"
   ]
  },
  {
   "cell_type": "markdown",
   "metadata": {},
   "source": [
    "Berikut ini adalah scatter plot dari data Turbidity dengan Potability."
   ]
  },
  {
   "cell_type": "code",
   "execution_count": 147,
   "metadata": {},
   "outputs": [
    {
     "data": {
      "text/plain": [
       "<AxesSubplot:xlabel='Turbidity', ylabel='Potability'>"
      ]
     },
     "execution_count": 147,
     "metadata": {},
     "output_type": "execute_result"
    },
    {
     "data": {
      "image/png": "[encoded data removed]",
      "text/plain": [
       "<Figure size 432x288 with 1 Axes>"
      ]
     },
     "metadata": {},
     "output_type": "display_data"
    }
   ],
   "source": [
    "sns.scatterplot(x = \"Turbidity\", y = \"Potability\", data = data)"
   ]
  },
  {
   "cell_type": "markdown",
   "metadata": {},
   "source": [
    "Selanjutnya akan dihitung nilai koefisien korelasi antarkeduanya menggunakan python."
   ]
  },
  {
   "cell_type": "code",
   "execution_count": 148,
   "metadata": {},
   "outputs": [
    {
     "data": {
      "text/plain": [
       "0.022331042640622675"
      ]
     },
     "execution_count": 148,
     "metadata": {},
     "output_type": "execute_result"
    }
   ],
   "source": [
    "data[\"Turbidity\"].corr(data[\"Potability\"])"
   ]
  },
  {
   "cell_type": "markdown",
   "metadata": {},
   "source": [
    "Nilai koefisien korelasi Turbidity dan potability mendekati nol. Oleh karena itu, kedua atribut tersebut tidak memiliki korelasi."
   ]
  }
 ],
 "metadata": {
  "interpreter": {
   "hash": "916dbcbb3f70747c44a77c7bcd40155683ae19c65e1c03b4aa3499c5328201f1"
  },
  "kernelspec": {
   "display_name": "Python 3 (ipykernel)",
   "language": "python",
   "name": "python3"
  },
  "language_info": {
   "codemirror_mode": {
    "name": "ipython",
    "version": 3
   },
   "file_extension": ".py",
   "mimetype": "text/x-python",
   "name": "python",
   "nbconvert_exporter": "python",
   "pygments_lexer": "ipython3",
   "version": "3.8.10"
  }
 },
 "nbformat": 4,
 "nbformat_minor": 4
}
